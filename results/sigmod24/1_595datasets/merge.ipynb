{
 "cells": [
  {
   "cell_type": "code",
   "execution_count": 2,
   "metadata": {
    "collapsed": true,
    "ExecuteTime": {
     "end_time": "2023-06-24T18:23:28.377656399Z",
     "start_time": "2023-06-24T18:23:28.363944101Z"
    }
   },
   "outputs": [],
   "source": [
    "import pandas as pd\n",
    "import glob"
   ]
  },
  {
   "cell_type": "code",
   "execution_count": 10,
   "outputs": [
    {
     "name": "stdout",
     "output_type": "stream",
     "text": [
      "reading file 2023-06-17_07-14-04_232010_results.log\n",
      "reading file 2023-06-21_17-43-45_419543_results.log\n",
      "reading file 2023-06-21_17-43-01_446723_results.log\n",
      "reading file 2023-06-17_07-14-04_403905_results.log\n",
      "reading file 2023-06-21_17-43-01_881295_results.log\n",
      "reading file 2023-06-17_07-14-04_149462_results.log\n",
      "reading file gpu/2023-06-19_12-52-40_260589_results.log\n",
      "reading file gpu/2023-06-17_07-08-00_251139_results.log\n"
     ]
    },
    {
     "data": {
      "text/plain": "                                             dataset    join        operator  \\\n0  /user/data/generated/n_R=1-r_T=100000-c_T=50-r...  preset            Noop   \n1  /user/data/generated/n_R=1-r_T=100000-c_T=50-r...  preset            Noop   \n2  /user/data/generated/n_R=1-r_T=100000-c_T=50-r...  preset   Left multiply   \n3  /user/data/generated/n_R=1-r_T=100000-c_T=50-r...  preset   Left multiply   \n4  /user/data/generated/n_R=1-r_T=100000-c_T=50-r...  preset  Right multiply   \n\n          model  tuple_ratio  feature_ratio  cardinality_T  cardinality_S  \\\n0  materialized     11.73862           10.0          97666          97667   \n1    factorized     11.73862           10.0          97666          97667   \n2  materialized     11.73862           10.0          97666          97667   \n3    factorized     11.73862           10.0          97666          97667   \n4  materialized     11.73862           10.0          97666          97667   \n\n   complexity  selectivity                                              times  \\\n0         NaN      1.00001  [1.393003913108259e-06, 6.920017767697573e-07,...   \n1         NaN      1.00001  [5.209949449636042e-07, 3.710010787472129e-07,...   \n2   3715591.0      1.00001  [0.003954858002543, 0.002927497997006, 0.00271...   \n3    751621.0      1.00001  [0.0011783629961420001, 0.0010265680029980001,...   \n4   3715591.0      1.00001  [0.0033751989976730005, 0.0032095380011010004,...   \n\n  num_cores                               data_characteristics  profile_times  \\\n0        16  {'r_T': 100000, 'c_T': 50, 'r_S': 90000, 'c_S'...            NaN   \n1        16  {'r_T': 100000, 'c_T': 50, 'r_S': 90000, 'c_S'...            NaN   \n2        16  {'r_T': 100000, 'c_T': 50, 'r_S': 90000, 'c_S'...            NaN   \n3        16  {'r_T': 100000, 'c_T': 50, 'r_S': 90000, 'c_S'...            NaN   \n4        16  {'r_T': 100000, 'c_T': 50, 'r_S': 90000, 'c_S'...            NaN   \n\n      times_std    times_mean  \n0  1.390462e-07  3.396902e-07  \n1  3.493327e-08  2.891196e-07  \n2  1.895033e-04  2.728897e-03  \n3  3.804681e-03  8.151018e-04  \n4  1.314690e-04  2.739361e-03  ",
      "text/html": "<div>\n<style scoped>\n    .dataframe tbody tr th:only-of-type {\n        vertical-align: middle;\n    }\n\n    .dataframe tbody tr th {\n        vertical-align: top;\n    }\n\n    .dataframe thead th {\n        text-align: right;\n    }\n</style>\n<table border=\"1\" class=\"dataframe\">\n  <thead>\n    <tr style=\"text-align: right;\">\n      <th></th>\n      <th>dataset</th>\n      <th>join</th>\n      <th>operator</th>\n      <th>model</th>\n      <th>tuple_ratio</th>\n      <th>feature_ratio</th>\n      <th>cardinality_T</th>\n      <th>cardinality_S</th>\n      <th>complexity</th>\n      <th>selectivity</th>\n      <th>times</th>\n      <th>num_cores</th>\n      <th>data_characteristics</th>\n      <th>profile_times</th>\n      <th>times_std</th>\n      <th>times_mean</th>\n    </tr>\n  </thead>\n  <tbody>\n    <tr>\n      <th>0</th>\n      <td>/user/data/generated/n_R=1-r_T=100000-c_T=50-r...</td>\n      <td>preset</td>\n      <td>Noop</td>\n      <td>materialized</td>\n      <td>11.73862</td>\n      <td>10.0</td>\n      <td>97666</td>\n      <td>97667</td>\n      <td>NaN</td>\n      <td>1.00001</td>\n      <td>[1.393003913108259e-06, 6.920017767697573e-07,...</td>\n      <td>16</td>\n      <td>{'r_T': 100000, 'c_T': 50, 'r_S': 90000, 'c_S'...</td>\n      <td>NaN</td>\n      <td>1.390462e-07</td>\n      <td>3.396902e-07</td>\n    </tr>\n    <tr>\n      <th>1</th>\n      <td>/user/data/generated/n_R=1-r_T=100000-c_T=50-r...</td>\n      <td>preset</td>\n      <td>Noop</td>\n      <td>factorized</td>\n      <td>11.73862</td>\n      <td>10.0</td>\n      <td>97666</td>\n      <td>97667</td>\n      <td>NaN</td>\n      <td>1.00001</td>\n      <td>[5.209949449636042e-07, 3.710010787472129e-07,...</td>\n      <td>16</td>\n      <td>{'r_T': 100000, 'c_T': 50, 'r_S': 90000, 'c_S'...</td>\n      <td>NaN</td>\n      <td>3.493327e-08</td>\n      <td>2.891196e-07</td>\n    </tr>\n    <tr>\n      <th>2</th>\n      <td>/user/data/generated/n_R=1-r_T=100000-c_T=50-r...</td>\n      <td>preset</td>\n      <td>Left multiply</td>\n      <td>materialized</td>\n      <td>11.73862</td>\n      <td>10.0</td>\n      <td>97666</td>\n      <td>97667</td>\n      <td>3715591.0</td>\n      <td>1.00001</td>\n      <td>[0.003954858002543, 0.002927497997006, 0.00271...</td>\n      <td>16</td>\n      <td>{'r_T': 100000, 'c_T': 50, 'r_S': 90000, 'c_S'...</td>\n      <td>NaN</td>\n      <td>1.895033e-04</td>\n      <td>2.728897e-03</td>\n    </tr>\n    <tr>\n      <th>3</th>\n      <td>/user/data/generated/n_R=1-r_T=100000-c_T=50-r...</td>\n      <td>preset</td>\n      <td>Left multiply</td>\n      <td>factorized</td>\n      <td>11.73862</td>\n      <td>10.0</td>\n      <td>97666</td>\n      <td>97667</td>\n      <td>751621.0</td>\n      <td>1.00001</td>\n      <td>[0.0011783629961420001, 0.0010265680029980001,...</td>\n      <td>16</td>\n      <td>{'r_T': 100000, 'c_T': 50, 'r_S': 90000, 'c_S'...</td>\n      <td>NaN</td>\n      <td>3.804681e-03</td>\n      <td>8.151018e-04</td>\n    </tr>\n    <tr>\n      <th>4</th>\n      <td>/user/data/generated/n_R=1-r_T=100000-c_T=50-r...</td>\n      <td>preset</td>\n      <td>Right multiply</td>\n      <td>materialized</td>\n      <td>11.73862</td>\n      <td>10.0</td>\n      <td>97666</td>\n      <td>97667</td>\n      <td>3715591.0</td>\n      <td>1.00001</td>\n      <td>[0.0033751989976730005, 0.0032095380011010004,...</td>\n      <td>16</td>\n      <td>{'r_T': 100000, 'c_T': 50, 'r_S': 90000, 'c_S'...</td>\n      <td>NaN</td>\n      <td>1.314690e-04</td>\n      <td>2.739361e-03</td>\n    </tr>\n  </tbody>\n</table>\n</div>"
     },
     "metadata": {},
     "output_type": "display_data"
    },
    {
     "name": "stdout",
     "output_type": "stream",
     "text": [
      "83728\n"
     ]
    }
   ],
   "source": [
    "dfs = []\n",
    "\n",
    "for f in glob.glob(\"**.log\"):\n",
    "    print(f\"reading file {f}\")\n",
    "    dfs.append(pd.read_json(f, lines=True))\n",
    "\n",
    "df:pd.DataFrame = pd.concat(dfs)\n",
    "display(df.head())\n",
    "print(len(df))"
   ],
   "metadata": {
    "collapsed": false,
    "ExecuteTime": {
     "end_time": "2023-06-24T18:25:26.501386938Z",
     "start_time": "2023-06-24T18:25:22.029679178Z"
    }
   }
  },
  {
   "cell_type": "code",
   "execution_count": 11,
   "outputs": [],
   "source": [
    "# Drop kmeans fails.\n",
    "df = df[~df.operator.apply(lambda x: \"fail\" in x)]\n"
   ],
   "metadata": {
    "collapsed": false,
    "ExecuteTime": {
     "end_time": "2023-06-24T18:25:26.668385465Z",
     "start_time": "2023-06-24T18:25:26.512559885Z"
    }
   }
  },
  {
   "cell_type": "code",
   "execution_count": 12,
   "outputs": [
    {
     "name": "stdout",
     "output_type": "stream",
     "text": [
      "                     dataset  join  model  tuple_ratio  feature_ratio  \\\n",
      "operator                                                                \n",
      "Column summation        4406  4406   4406         4406           4406   \n",
      "Column summation T      4406  4406   4406         4406           4406   \n",
      "Gaussian                4404  4404   4404         4404           4404   \n",
      "KMeans                  5617  5617   5617         5617           5617   \n",
      "LMM                     4406  4406   4406         4406           4406   \n",
      "LMM T                   4406  4406   4406         4406           4406   \n",
      "Left multiply           4406  4406   4406         4406           4406   \n",
      "Left multiply T         4406  4406   4406         4406           4406   \n",
      "Linear Regression       4405  4405   4405         4405           4405   \n",
      "Logistic Regression     4404  4404   4404         4404           4404   \n",
      "Materialization         4406  4406   4406         4406           4406   \n",
      "Noop                    4406  4406   4406         4406           4406   \n",
      "RMM                     4406  4406   4406         4406           4406   \n",
      "RMM T                   4406  4406   4406         4406           4406   \n",
      "Right multiply          4406  4406   4406         4406           4406   \n",
      "Right multiply T        4406  4406   4406         4406           4406   \n",
      "Row summation           4406  4406   4406         4406           4406   \n",
      "Row summation T         4406  4406   4406         4406           4406   \n",
      "\n",
      "                     cardinality_T  cardinality_S  complexity  selectivity  \\\n",
      "operator                                                                     \n",
      "Column summation              4406           4406        4406         4406   \n",
      "Column summation T            4406           4406        4406         4406   \n",
      "Gaussian                      4404           4404        4404         4404   \n",
      "KMeans                        5617           5617        5617         5617   \n",
      "LMM                           4406           4406        4406         4406   \n",
      "LMM T                         4406           4406        4406         4406   \n",
      "Left multiply                 4406           4406        4406         4406   \n",
      "Left multiply T               4406           4406        4406         4406   \n",
      "Linear Regression             4405           4405        4405         4405   \n",
      "Logistic Regression           4404           4404        4404         4404   \n",
      "Materialization               4406           4406           0         4406   \n",
      "Noop                          4406           4406           0         4406   \n",
      "RMM                           4406           4406        4406         4406   \n",
      "RMM T                         4406           4406        4406         4406   \n",
      "Right multiply                4406           4406        4406         4406   \n",
      "Right multiply T              4406           4406        4406         4406   \n",
      "Row summation                 4406           4406        4406         4406   \n",
      "Row summation T               4406           4406        4406         4406   \n",
      "\n",
      "                     times  num_cores  data_characteristics  profile_times  \\\n",
      "operator                                                                     \n",
      "Column summation      4406       4406                  4406              0   \n",
      "Column summation T    4406       4406                  4406              0   \n",
      "Gaussian              4404       4404                  4404              0   \n",
      "KMeans                5617       5617                  5617              0   \n",
      "LMM                   4406       4406                  4406              0   \n",
      "LMM T                 4406       4406                  4406              0   \n",
      "Left multiply         4406       4406                  4406              0   \n",
      "Left multiply T       4406       4406                  4406              0   \n",
      "Linear Regression     4405       4405                  4405              0   \n",
      "Logistic Regression   4404       4404                  4404              0   \n",
      "Materialization       4406       4406                  4406              0   \n",
      "Noop                  4406       4406                  4406              0   \n",
      "RMM                   4406       4406                  4406              0   \n",
      "RMM T                 4406       4406                  4406              0   \n",
      "Right multiply        4406       4406                  4406              0   \n",
      "Right multiply T      4406       4406                  4406              0   \n",
      "Row summation         4406       4406                  4406              0   \n",
      "Row summation T       4406       4406                  4406              0   \n",
      "\n",
      "                     times_std  times_mean  \n",
      "operator                                    \n",
      "Column summation          4406        4406  \n",
      "Column summation T        4406        4406  \n",
      "Gaussian                  4404        4404  \n",
      "KMeans                    5617        5617  \n",
      "LMM                       4406        4406  \n",
      "LMM T                     4406        4406  \n",
      "Left multiply             4406        4406  \n",
      "Left multiply T           4406        4406  \n",
      "Linear Regression         4405        4405  \n",
      "Logistic Regression       4404        4404  \n",
      "Materialization           4406        4406  \n",
      "Noop                      4406        4406  \n",
      "RMM                       4406        4406  \n",
      "RMM T                     4406        4406  \n",
      "Right multiply            4406        4406  \n",
      "Right multiply T          4406        4406  \n",
      "Row summation             4406        4406  \n",
      "Row summation T           4406        4406  \n"
     ]
    }
   ],
   "source": [
    "# Some checks\n",
    "print(df.groupby('operator').count())"
   ],
   "metadata": {
    "collapsed": false,
    "ExecuteTime": {
     "end_time": "2023-06-24T18:25:26.823371899Z",
     "start_time": "2023-06-24T18:25:26.733748634Z"
    }
   }
  },
  {
   "cell_type": "code",
   "execution_count": 13,
   "outputs": [],
   "source": [
    "df.to_parquet(\"sigmod_merged.parquet\")"
   ],
   "metadata": {
    "collapsed": false,
    "ExecuteTime": {
     "end_time": "2023-06-24T18:25:34.957452049Z",
     "start_time": "2023-06-24T18:25:28.991201427Z"
    }
   }
  }
 ],
 "metadata": {
  "kernelspec": {
   "display_name": "Python 3",
   "language": "python",
   "name": "python3"
  },
  "language_info": {
   "codemirror_mode": {
    "name": "ipython",
    "version": 2
   },
   "file_extension": ".py",
   "mimetype": "text/x-python",
   "name": "python",
   "nbconvert_exporter": "python",
   "pygments_lexer": "ipython2",
   "version": "2.7.6"
  }
 },
 "nbformat": 4,
 "nbformat_minor": 0
}
