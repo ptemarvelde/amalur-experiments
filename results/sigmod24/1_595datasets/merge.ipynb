{
 "cells": [
  {
   "cell_type": "code",
   "execution_count": 2,
   "metadata": {
    "collapsed": true,
    "ExecuteTime": {
     "end_time": "2023-07-31T08:11:02.234326079Z",
     "start_time": "2023-07-31T08:11:01.912671430Z"
    }
   },
   "outputs": [],
   "source": [
    "import pandas as pd\n",
    "import glob"
   ]
  },
  {
   "cell_type": "code",
   "execution_count": 17,
   "outputs": [
    {
     "name": "stdout",
     "output_type": "stream",
     "text": [
      "reading file ../proposal_extra_features/hamlet/2023-07-29_11-58-18_331042_results.log\n"
     ]
    },
    {
     "data": {
      "text/plain": "  dataset   join        operator         model  tuple_ratio  feature_ratio  \\\n0    book  inner            Noop  materialized     0.557832       1.914246   \n1    book  inner            Noop    factorized     0.557832       1.914246   \n2    book  inner   Left multiply  materialized     0.557832       1.914246   \n3    book  inner   Left multiply    factorized     0.557832       1.914246   \n4    book  inner  Right multiply  materialized     0.557832       1.914246   \n\n   cardinality_T  cardinality_S  complexity  selectivity  \\\n0         253120          77848         NaN     0.307554   \n1         253120          77848         NaN     0.307554   \n2         253120          77848   2024960.0     0.307554   \n3         253120          77848    333488.0     0.307554   \n4         253120          77848   2024960.0     0.307554   \n\n                     times  num_cores  \\\n0  [1.443004293832928e-06]         32   \n1  [4.609973984770477e-07]         32   \n2       [0.00210807500116]         32   \n3      [0.000482290000945]         32   \n4      [0.001969867997104]         32   \n\n                                data_characteristics  profile_times  \\\n0  {'r_S': [27876, 49972], 'c_S': [28022, 53641],...            NaN   \n1  {'r_S': [27876, 49972], 'c_S': [28022, 53641],...            NaN   \n2  {'r_S': [27876, 49972], 'c_S': [28022, 53641],...            NaN   \n3  {'r_S': [27876, 49972], 'c_S': [28022, 53641],...            NaN   \n4  {'r_S': [27876, 49972], 'c_S': [28022, 53641],...            NaN   \n\n   times_std    times_mean  \n0         -1  1.443004e-06  \n1         -1  4.609974e-07  \n2         -1  2.108075e-03  \n3         -1  4.822900e-04  \n4         -1  1.969868e-03  ",
      "text/html": "<div>\n<style scoped>\n    .dataframe tbody tr th:only-of-type {\n        vertical-align: middle;\n    }\n\n    .dataframe tbody tr th {\n        vertical-align: top;\n    }\n\n    .dataframe thead th {\n        text-align: right;\n    }\n</style>\n<table border=\"1\" class=\"dataframe\">\n  <thead>\n    <tr style=\"text-align: right;\">\n      <th></th>\n      <th>dataset</th>\n      <th>join</th>\n      <th>operator</th>\n      <th>model</th>\n      <th>tuple_ratio</th>\n      <th>feature_ratio</th>\n      <th>cardinality_T</th>\n      <th>cardinality_S</th>\n      <th>complexity</th>\n      <th>selectivity</th>\n      <th>times</th>\n      <th>num_cores</th>\n      <th>data_characteristics</th>\n      <th>profile_times</th>\n      <th>times_std</th>\n      <th>times_mean</th>\n    </tr>\n  </thead>\n  <tbody>\n    <tr>\n      <th>0</th>\n      <td>book</td>\n      <td>inner</td>\n      <td>Noop</td>\n      <td>materialized</td>\n      <td>0.557832</td>\n      <td>1.914246</td>\n      <td>253120</td>\n      <td>77848</td>\n      <td>NaN</td>\n      <td>0.307554</td>\n      <td>[1.443004293832928e-06]</td>\n      <td>32</td>\n      <td>{'r_S': [27876, 49972], 'c_S': [28022, 53641],...</td>\n      <td>NaN</td>\n      <td>-1</td>\n      <td>1.443004e-06</td>\n    </tr>\n    <tr>\n      <th>1</th>\n      <td>book</td>\n      <td>inner</td>\n      <td>Noop</td>\n      <td>factorized</td>\n      <td>0.557832</td>\n      <td>1.914246</td>\n      <td>253120</td>\n      <td>77848</td>\n      <td>NaN</td>\n      <td>0.307554</td>\n      <td>[4.609973984770477e-07]</td>\n      <td>32</td>\n      <td>{'r_S': [27876, 49972], 'c_S': [28022, 53641],...</td>\n      <td>NaN</td>\n      <td>-1</td>\n      <td>4.609974e-07</td>\n    </tr>\n    <tr>\n      <th>2</th>\n      <td>book</td>\n      <td>inner</td>\n      <td>Left multiply</td>\n      <td>materialized</td>\n      <td>0.557832</td>\n      <td>1.914246</td>\n      <td>253120</td>\n      <td>77848</td>\n      <td>2024960.0</td>\n      <td>0.307554</td>\n      <td>[0.00210807500116]</td>\n      <td>32</td>\n      <td>{'r_S': [27876, 49972], 'c_S': [28022, 53641],...</td>\n      <td>NaN</td>\n      <td>-1</td>\n      <td>2.108075e-03</td>\n    </tr>\n    <tr>\n      <th>3</th>\n      <td>book</td>\n      <td>inner</td>\n      <td>Left multiply</td>\n      <td>factorized</td>\n      <td>0.557832</td>\n      <td>1.914246</td>\n      <td>253120</td>\n      <td>77848</td>\n      <td>333488.0</td>\n      <td>0.307554</td>\n      <td>[0.000482290000945]</td>\n      <td>32</td>\n      <td>{'r_S': [27876, 49972], 'c_S': [28022, 53641],...</td>\n      <td>NaN</td>\n      <td>-1</td>\n      <td>4.822900e-04</td>\n    </tr>\n    <tr>\n      <th>4</th>\n      <td>book</td>\n      <td>inner</td>\n      <td>Right multiply</td>\n      <td>materialized</td>\n      <td>0.557832</td>\n      <td>1.914246</td>\n      <td>253120</td>\n      <td>77848</td>\n      <td>2024960.0</td>\n      <td>0.307554</td>\n      <td>[0.001969867997104]</td>\n      <td>32</td>\n      <td>{'r_S': [27876, 49972], 'c_S': [28022, 53641],...</td>\n      <td>NaN</td>\n      <td>-1</td>\n      <td>1.969868e-03</td>\n    </tr>\n  </tbody>\n</table>\n</div>"
     },
     "metadata": {},
     "output_type": "display_data"
    },
    {
     "name": "stdout",
     "output_type": "stream",
     "text": [
      "756\n"
     ]
    }
   ],
   "source": [
    "dfs = []\n",
    "resfiles = [\n",
    "    # *glob.glob(\"../100k_1/2023*.log\"),\n",
    "    # *glob.glob(\"../1M/2023*.log\"),\n",
    "    # *glob.glob(\"../500k_1/2023*.log\"),\n",
    "    *glob.glob(\"../proposal_extra_features/hamlet/*_results.log\")\n",
    "]\n",
    "for f in resfiles:\n",
    "    print(f\"reading file {f}\")\n",
    "    tdf = pd.read_json(f, lines=True)\n",
    "    if f == \"gpu/2023-06-17_07-08-00_251139_results.log\":\n",
    "        tdf = tdf[tdf.operator != 'KMeans']\n",
    "\n",
    "    dfs.append(tdf)\n",
    "\n",
    "df:pd.DataFrame = pd.concat(dfs)\n",
    "df = df[~df.operator.apply(lambda x: \"fail\" in x)]\n",
    "df.to_parquet(\"sigmod_extra_features_hamlet.parquet\")\n",
    "display(df.head())\n",
    "print(len(df))"
   ],
   "metadata": {
    "collapsed": false,
    "ExecuteTime": {
     "end_time": "2023-07-31T10:06:12.456367412Z",
     "start_time": "2023-07-31T10:06:12.367163967Z"
    }
   }
  },
  {
   "cell_type": "code",
   "execution_count": 13,
   "outputs": [
    {
     "data": {
      "text/plain": "10.0"
     },
     "execution_count": 13,
     "metadata": {},
     "output_type": "execute_result"
    }
   ],
   "source": [
    "import numpy as np\n",
    "df.feature_ratio.max()"
   ],
   "metadata": {
    "collapsed": false,
    "ExecuteTime": {
     "end_time": "2023-07-11T14:35:08.229489558Z",
     "start_time": "2023-07-11T14:35:08.213097224Z"
    }
   }
  },
  {
   "cell_type": "code",
   "execution_count": 17,
   "outputs": [
    {
     "data": {
      "text/plain": "2.0"
     },
     "execution_count": 17,
     "metadata": {},
     "output_type": "execute_result"
    }
   ],
   "source": [
    "df.selectivity.max()"
   ],
   "metadata": {
    "collapsed": false,
    "ExecuteTime": {
     "end_time": "2023-07-11T14:35:33.637134724Z",
     "start_time": "2023-07-11T14:35:33.616301791Z"
    }
   }
  },
  {
   "cell_type": "code",
   "execution_count": 15,
   "outputs": [
    {
     "name": "stdout",
     "output_type": "stream",
     "text": [
      "reading file ../100k_1/features_2023-07-10_12-42-21_849080.log\n",
      "reading file ../100k_1/features_2023-07-10_12-42-21_830155.log\n",
      "reading file ../1M/features_2023-07-07_15-27-57_510420.log\n",
      "reading file ../1M/features_2023-07-07_15-27-57_442052.log\n",
      "reading file ../1M/features_2023-07-04_05-25-22_210638.log\n",
      "reading file ../1M/features_2023-07-04_05-25-22_130888.log\n",
      "reading file ../1M/features_2023-07-08_20-44-58_314495.log\n",
      "reading file ../1M/features_2023-07-08_20-44-58_033822.log\n",
      "reading file ../1M/features_2023-07-08_20-44-57_854846.log\n",
      "reading file ../1M/features_2023-07-07_15-27-57_394280.log\n",
      "reading file ../1M/features_2023-07-08_20-44-58_038719.log\n",
      "reading file ../1M/features_2023-07-08_20-44-57_837702.log\n",
      "reading file ../1M/features_2023-07-05_16-20-01_834834.log\n",
      "reading file ../1M/features_2023-07-07_15-27-57_421450.log\n",
      "reading file ../1M/features_2023-07-08_20-44-57_934833.log\n",
      "reading file ../1M/features_2023-07-08_20-44-58_034324.log\n",
      "reading file ../1M/features_2023-07-05_16-20-01_834603.log\n",
      "reading file ../1M/features_2023-07-04_05-25-22_157675.log\n",
      "reading file ../1M/features_2023-07-08_20-44-57_899981.log\n",
      "reading file ../500k_1/features_2023-07-01_13-41-13_595057.log\n",
      "reading file ../500k_1/features_2023-07-02_14-52-19_110547.log\n",
      "reading file ../500k_1/features_2023-07-01_13-41-12_843288.log\n",
      "reading file ../500k_1/features_2023-07-03_05-21-45_877050.log\n",
      "reading file ../500k_1/features_2023-07-03_05-21-45_757436.log\n",
      "reading file ../500k_1/features_2023-07-01_13-41-12_409168.log\n",
      "reading file ../500k_1/features_2023-07-02_14-52-18_014054.log\n",
      "reading file ../500k_1/features_2023-07-02_14-52-19_427025.log\n",
      "reading file ../500k_1/features_2023-07-02_14-52-21_013206.log\n",
      "reading file ../500k_1/features_2023-07-02_14-52-18_605524.log\n",
      "reading file ../500k_1/features_2023-07-02_14-52-20_614769.log\n",
      "reading file ../500k_1/features_2023-07-02_14-52-19_902500.log\n",
      "reading file ../500k_1/features_2023-07-03_05-21-45_747053.log\n",
      "reading file ../500k_1/features_2023-07-02_14-52-20_228902.log\n",
      "reading file ../500k_1/features_2023-06-30_12-42-24_313687.log\n",
      "reading file ../500k_1/features_2023-06-30_12-42-23_889168.log\n",
      "reading file ../500k_1/features_2023-07-01_13-41-13_027549.log\n"
     ]
    },
    {
     "data": {
      "text/plain": "                                             dataset          operator  \\\n0  /user/data/generated/n_R=1-r_T=100000-c_T=10-r...              Noop   \n1  /user/data/generated/n_R=1-r_T=100000-c_T=10-r...     Left multiply   \n2  /user/data/generated/n_R=1-r_T=100000-c_T=10-r...    Right multiply   \n3  /user/data/generated/n_R=1-r_T=100000-c_T=10-r...     Row summation   \n4  /user/data/generated/n_R=1-r_T=100000-c_T=10-r...  Column summation   \n\n                                            features            r_S      c_S  \\\n0                                       [None, None]  [100000, 526]  [1, 10]   \n1  [1000000, 104734, 8000000, 8000000, 837872, 83...  [100000, 526]  [1, 10]   \n2  [1000000, 104734, 8000000, 8000000, 837872, 83...  [100000, 526]  [1, 10]   \n3  [1000000, 104734, 8000000, 8000000, 837872, 83...  [100000, 526]  [1, 10]   \n4  [1000000, 104734, 8000000, 8000000, 837872, 83...  [100000, 526]  [1, 10]   \n\n            nnz_S     r_T  c_T    nnz_T          TR    FR  \n0  [100000, 4734]  100000   10  1000000  190.114068  10.0  \n1  [100000, 4734]  100000   10  1000000  190.114068  10.0  \n2  [100000, 4734]  100000   10  1000000  190.114068  10.0  \n3  [100000, 4734]  100000   10  1000000  190.114068  10.0  \n4  [100000, 4734]  100000   10  1000000  190.114068  10.0  ",
      "text/html": "<div>\n<style scoped>\n    .dataframe tbody tr th:only-of-type {\n        vertical-align: middle;\n    }\n\n    .dataframe tbody tr th {\n        vertical-align: top;\n    }\n\n    .dataframe thead th {\n        text-align: right;\n    }\n</style>\n<table border=\"1\" class=\"dataframe\">\n  <thead>\n    <tr style=\"text-align: right;\">\n      <th></th>\n      <th>dataset</th>\n      <th>operator</th>\n      <th>features</th>\n      <th>r_S</th>\n      <th>c_S</th>\n      <th>nnz_S</th>\n      <th>r_T</th>\n      <th>c_T</th>\n      <th>nnz_T</th>\n      <th>TR</th>\n      <th>FR</th>\n    </tr>\n  </thead>\n  <tbody>\n    <tr>\n      <th>0</th>\n      <td>/user/data/generated/n_R=1-r_T=100000-c_T=10-r...</td>\n      <td>Noop</td>\n      <td>[None, None]</td>\n      <td>[100000, 526]</td>\n      <td>[1, 10]</td>\n      <td>[100000, 4734]</td>\n      <td>100000</td>\n      <td>10</td>\n      <td>1000000</td>\n      <td>190.114068</td>\n      <td>10.0</td>\n    </tr>\n    <tr>\n      <th>1</th>\n      <td>/user/data/generated/n_R=1-r_T=100000-c_T=10-r...</td>\n      <td>Left multiply</td>\n      <td>[1000000, 104734, 8000000, 8000000, 837872, 83...</td>\n      <td>[100000, 526]</td>\n      <td>[1, 10]</td>\n      <td>[100000, 4734]</td>\n      <td>100000</td>\n      <td>10</td>\n      <td>1000000</td>\n      <td>190.114068</td>\n      <td>10.0</td>\n    </tr>\n    <tr>\n      <th>2</th>\n      <td>/user/data/generated/n_R=1-r_T=100000-c_T=10-r...</td>\n      <td>Right multiply</td>\n      <td>[1000000, 104734, 8000000, 8000000, 837872, 83...</td>\n      <td>[100000, 526]</td>\n      <td>[1, 10]</td>\n      <td>[100000, 4734]</td>\n      <td>100000</td>\n      <td>10</td>\n      <td>1000000</td>\n      <td>190.114068</td>\n      <td>10.0</td>\n    </tr>\n    <tr>\n      <th>3</th>\n      <td>/user/data/generated/n_R=1-r_T=100000-c_T=10-r...</td>\n      <td>Row summation</td>\n      <td>[1000000, 104734, 8000000, 8000000, 837872, 83...</td>\n      <td>[100000, 526]</td>\n      <td>[1, 10]</td>\n      <td>[100000, 4734]</td>\n      <td>100000</td>\n      <td>10</td>\n      <td>1000000</td>\n      <td>190.114068</td>\n      <td>10.0</td>\n    </tr>\n    <tr>\n      <th>4</th>\n      <td>/user/data/generated/n_R=1-r_T=100000-c_T=10-r...</td>\n      <td>Column summation</td>\n      <td>[1000000, 104734, 8000000, 8000000, 837872, 83...</td>\n      <td>[100000, 526]</td>\n      <td>[1, 10]</td>\n      <td>[100000, 4734]</td>\n      <td>100000</td>\n      <td>10</td>\n      <td>1000000</td>\n      <td>190.114068</td>\n      <td>10.0</td>\n    </tr>\n  </tbody>\n</table>\n</div>"
     },
     "metadata": {},
     "output_type": "display_data"
    },
    {
     "name": "stdout",
     "output_type": "stream",
     "text": [
      "32130\n"
     ]
    }
   ],
   "source": [
    "dfs = []\n",
    "resfiles = [\n",
    "    *glob.glob(\"../100k_1/features*.log\"),\n",
    "    *glob.glob(\"../1M/features*.log\"),\n",
    "    *glob.glob(\"../500k_1/features*.log\")\n",
    "]\n",
    "for f in resfiles:\n",
    "    print(f\"reading file {f}\")\n",
    "    tdf = pd.read_json(f, lines=True)\n",
    "    if f == \"gpu/2023-06-17_07-08-00_251139_results.log\":\n",
    "        tdf = tdf[tdf.operator != 'KMeans']\n",
    "\n",
    "    dfs.append(tdf)\n",
    "\n",
    "df:pd.DataFrame = pd.concat(dfs)\n",
    "df = df.rename(columns={'join':'operator'})\n",
    "df.drop_duplicates(subset=['dataset', 'operator',], keep=\"first\", inplace=True)\n",
    "df.to_parquet(\"sigmod_merged_features.parquet\")\n",
    "display(df.head())\n",
    "print(len(df))"
   ],
   "metadata": {
    "collapsed": false,
    "ExecuteTime": {
     "end_time": "2023-07-31T10:03:09.157984322Z",
     "start_time": "2023-07-31T10:03:06.767146169Z"
    }
   }
  },
  {
   "cell_type": "code",
   "execution_count": 8,
   "outputs": [
    {
     "name": "stdout",
     "output_type": "stream",
     "text": [
      "reading file ../hamlet/2023-07-11_11-05-34_469967_results.log\n",
      "reading file ../hamlet/2023-07-11_09-56-55_296381_results.log\n",
      "reading file ../hamlet/2023-07-11_09-56-55_018046_results.log\n",
      "reading file ../hamlet/2023-07-11_09-56-54_731834_results.log\n"
     ]
    },
    {
     "data": {
      "text/plain": "  dataset   join        operator         model  tuple_ratio  feature_ratio  \\\n0    book  inner            Noop  materialized     0.557832       1.914246   \n1    book  inner            Noop    factorized     0.557832       1.914246   \n2    book  inner   Left multiply  materialized     0.557832       1.914246   \n3    book  inner   Left multiply    factorized     0.557832       1.914246   \n4    book  inner  Right multiply  materialized     0.557832       1.914246   \n\n   cardinality_T  cardinality_S  complexity  selectivity  \\\n0         253120          77848         NaN     0.307554   \n1         253120          77848         NaN     0.307554   \n2         253120          77848   2024960.0     0.307554   \n3         253120          77848    333488.0     0.307554   \n4         253120          77848   2024960.0     0.307554   \n\n                                               times  num_cores  \\\n0  [1.733002136461436e-06, 4.4099579099565744e-07...         32   \n1  [7.709968485869467e-07, 3.710010787472129e-07,...         32   \n2  [0.001698968997516, 0.001619219998246, 0.00153...         32   \n3  [0.0008261559996750001, 0.0007124640032990001,...         32   \n4  [0.001786032000381, 0.0016204319981620002, 0.0...         32   \n\n   data_characteristics  profile_times     times_std    times_mean  \n0                   NaN            NaN  4.394043e-07  4.886984e-07  \n1                   NaN            NaN  1.323216e-07  4.107991e-07  \n2                   NaN            NaN  1.142788e-04  1.574954e-03  \n3                   NaN            NaN  2.292410e-04  4.571054e-04  \n4                   NaN            NaN  5.726379e-03  3.739731e-03  ",
      "text/html": "<div>\n<style scoped>\n    .dataframe tbody tr th:only-of-type {\n        vertical-align: middle;\n    }\n\n    .dataframe tbody tr th {\n        vertical-align: top;\n    }\n\n    .dataframe thead th {\n        text-align: right;\n    }\n</style>\n<table border=\"1\" class=\"dataframe\">\n  <thead>\n    <tr style=\"text-align: right;\">\n      <th></th>\n      <th>dataset</th>\n      <th>join</th>\n      <th>operator</th>\n      <th>model</th>\n      <th>tuple_ratio</th>\n      <th>feature_ratio</th>\n      <th>cardinality_T</th>\n      <th>cardinality_S</th>\n      <th>complexity</th>\n      <th>selectivity</th>\n      <th>times</th>\n      <th>num_cores</th>\n      <th>data_characteristics</th>\n      <th>profile_times</th>\n      <th>times_std</th>\n      <th>times_mean</th>\n    </tr>\n  </thead>\n  <tbody>\n    <tr>\n      <th>0</th>\n      <td>book</td>\n      <td>inner</td>\n      <td>Noop</td>\n      <td>materialized</td>\n      <td>0.557832</td>\n      <td>1.914246</td>\n      <td>253120</td>\n      <td>77848</td>\n      <td>NaN</td>\n      <td>0.307554</td>\n      <td>[1.733002136461436e-06, 4.4099579099565744e-07...</td>\n      <td>32</td>\n      <td>NaN</td>\n      <td>NaN</td>\n      <td>4.394043e-07</td>\n      <td>4.886984e-07</td>\n    </tr>\n    <tr>\n      <th>1</th>\n      <td>book</td>\n      <td>inner</td>\n      <td>Noop</td>\n      <td>factorized</td>\n      <td>0.557832</td>\n      <td>1.914246</td>\n      <td>253120</td>\n      <td>77848</td>\n      <td>NaN</td>\n      <td>0.307554</td>\n      <td>[7.709968485869467e-07, 3.710010787472129e-07,...</td>\n      <td>32</td>\n      <td>NaN</td>\n      <td>NaN</td>\n      <td>1.323216e-07</td>\n      <td>4.107991e-07</td>\n    </tr>\n    <tr>\n      <th>2</th>\n      <td>book</td>\n      <td>inner</td>\n      <td>Left multiply</td>\n      <td>materialized</td>\n      <td>0.557832</td>\n      <td>1.914246</td>\n      <td>253120</td>\n      <td>77848</td>\n      <td>2024960.0</td>\n      <td>0.307554</td>\n      <td>[0.001698968997516, 0.001619219998246, 0.00153...</td>\n      <td>32</td>\n      <td>NaN</td>\n      <td>NaN</td>\n      <td>1.142788e-04</td>\n      <td>1.574954e-03</td>\n    </tr>\n    <tr>\n      <th>3</th>\n      <td>book</td>\n      <td>inner</td>\n      <td>Left multiply</td>\n      <td>factorized</td>\n      <td>0.557832</td>\n      <td>1.914246</td>\n      <td>253120</td>\n      <td>77848</td>\n      <td>333488.0</td>\n      <td>0.307554</td>\n      <td>[0.0008261559996750001, 0.0007124640032990001,...</td>\n      <td>32</td>\n      <td>NaN</td>\n      <td>NaN</td>\n      <td>2.292410e-04</td>\n      <td>4.571054e-04</td>\n    </tr>\n    <tr>\n      <th>4</th>\n      <td>book</td>\n      <td>inner</td>\n      <td>Right multiply</td>\n      <td>materialized</td>\n      <td>0.557832</td>\n      <td>1.914246</td>\n      <td>253120</td>\n      <td>77848</td>\n      <td>2024960.0</td>\n      <td>0.307554</td>\n      <td>[0.001786032000381, 0.0016204319981620002, 0.0...</td>\n      <td>32</td>\n      <td>NaN</td>\n      <td>NaN</td>\n      <td>5.726379e-03</td>\n      <td>3.739731e-03</td>\n    </tr>\n  </tbody>\n</table>\n</div>"
     },
     "metadata": {},
     "output_type": "display_data"
    },
    {
     "name": "stdout",
     "output_type": "stream",
     "text": [
      "3024\n"
     ]
    }
   ],
   "source": [
    "dfs = []\n",
    "resfiles = [\n",
    "    *glob.glob(\"../hamlet/2023*_results.log\")\n",
    "\n",
    "]\n",
    "for f in resfiles:\n",
    "    print(f\"reading file {f}\")\n",
    "    tdf = pd.read_json(f, lines=True)\n",
    "    if f == \"gpu/2023-06-17_07-08-00_251139_results.log\":\n",
    "        tdf = tdf[tdf.operator != 'KMeans']\n",
    "\n",
    "    dfs.append(tdf)\n",
    "\n",
    "df:pd.DataFrame = pd.concat(dfs)\n",
    "df = df[~df.operator.apply(lambda x: \"fail\" in x)]\n",
    "df.to_parquet(\"sigmod_merged_hamlet.parquet\")\n",
    "display(df.head())\n",
    "print(len(df))"
   ],
   "metadata": {
    "collapsed": false,
    "ExecuteTime": {
     "end_time": "2023-07-11T12:29:12.477526852Z",
     "start_time": "2023-07-11T12:29:12.336157338Z"
    }
   }
  },
  {
   "cell_type": "code",
   "execution_count": 5,
   "outputs": [
    {
     "data": {
      "text/plain": "['features_2023-07-11_09-56-55_302651.log',\n 'features_2023-07-11_09-56-55_024194.log',\n 'features_2023-07-11_11-05-34_480017.log',\n 'features_2023-07-11_09-56-54_744298.log',\n '2023-07-11_11-05-34_469967_results.log',\n '2023-07-11_09-56-55_296381_results.log',\n '2023-07-11_09-56-55_018046_results.log',\n '2023-07-11_09-56-54_731834_results.log']"
     },
     "execution_count": 5,
     "metadata": {},
     "output_type": "execute_result"
    }
   ],
   "source": [
    "import os\n",
    "os.listdir(\"../hamlet\")"
   ],
   "metadata": {
    "collapsed": false,
    "ExecuteTime": {
     "end_time": "2023-07-11T12:28:23.901044513Z",
     "start_time": "2023-07-11T12:28:23.871773147Z"
    }
   }
  },
  {
   "cell_type": "code",
   "execution_count": 13,
   "outputs": [
    {
     "name": "stdout",
     "output_type": "stream",
     "text": [
      "reading file ../hamlet/features_2023-07-11_09-56-55_302651.log\n",
      "reading file ../hamlet/features_2023-07-11_09-56-55_024194.log\n",
      "reading file ../hamlet/features_2023-07-11_11-05-34_480017.log\n",
      "reading file ../hamlet/features_2023-07-11_09-56-54_744298.log\n"
     ]
    },
    {
     "data": {
      "text/plain": "  dataset          operator  \\\n0    book              Noop   \n1    book     Left multiply   \n2    book    Right multiply   \n3    book     Row summation   \n4    book  Column summation   \n\n                                            features             r_S  \\\n0                                       [None, None]  [27876, 49972]   \n1  [2024960, 333488, 16199680, 16199680, 2667904,...  [27876, 49972]   \n2  [2024960, 333488, 16199680, 16199680, 2667904,...  [27876, 49972]   \n3  [2024960, 333488, 16199680, 16199680, 2667904,...  [27876, 49972]   \n4  [2024960, 333488, 16199680, 16199680, 2667904,...  [27876, 49972]   \n\n              c_S            nnz_S     r_T    c_T    nnz_T        TR        FR  \n0  [28022, 53641]  [83628, 249860]  253120  81663  2024960  0.557832  1.914246  \n1  [28022, 53641]  [83628, 249860]  253120  81663  2024960  0.557832  1.914246  \n2  [28022, 53641]  [83628, 249860]  253120  81663  2024960  0.557832  1.914246  \n3  [28022, 53641]  [83628, 249860]  253120  81663  2024960  0.557832  1.914246  \n4  [28022, 53641]  [83628, 249860]  253120  81663  2024960  0.557832  1.914246  ",
      "text/html": "<div>\n<style scoped>\n    .dataframe tbody tr th:only-of-type {\n        vertical-align: middle;\n    }\n\n    .dataframe tbody tr th {\n        vertical-align: top;\n    }\n\n    .dataframe thead th {\n        text-align: right;\n    }\n</style>\n<table border=\"1\" class=\"dataframe\">\n  <thead>\n    <tr style=\"text-align: right;\">\n      <th></th>\n      <th>dataset</th>\n      <th>operator</th>\n      <th>features</th>\n      <th>r_S</th>\n      <th>c_S</th>\n      <th>nnz_S</th>\n      <th>r_T</th>\n      <th>c_T</th>\n      <th>nnz_T</th>\n      <th>TR</th>\n      <th>FR</th>\n    </tr>\n  </thead>\n  <tbody>\n    <tr>\n      <th>0</th>\n      <td>book</td>\n      <td>Noop</td>\n      <td>[None, None]</td>\n      <td>[27876, 49972]</td>\n      <td>[28022, 53641]</td>\n      <td>[83628, 249860]</td>\n      <td>253120</td>\n      <td>81663</td>\n      <td>2024960</td>\n      <td>0.557832</td>\n      <td>1.914246</td>\n    </tr>\n    <tr>\n      <th>1</th>\n      <td>book</td>\n      <td>Left multiply</td>\n      <td>[2024960, 333488, 16199680, 16199680, 2667904,...</td>\n      <td>[27876, 49972]</td>\n      <td>[28022, 53641]</td>\n      <td>[83628, 249860]</td>\n      <td>253120</td>\n      <td>81663</td>\n      <td>2024960</td>\n      <td>0.557832</td>\n      <td>1.914246</td>\n    </tr>\n    <tr>\n      <th>2</th>\n      <td>book</td>\n      <td>Right multiply</td>\n      <td>[2024960, 333488, 16199680, 16199680, 2667904,...</td>\n      <td>[27876, 49972]</td>\n      <td>[28022, 53641]</td>\n      <td>[83628, 249860]</td>\n      <td>253120</td>\n      <td>81663</td>\n      <td>2024960</td>\n      <td>0.557832</td>\n      <td>1.914246</td>\n    </tr>\n    <tr>\n      <th>3</th>\n      <td>book</td>\n      <td>Row summation</td>\n      <td>[2024960, 333488, 16199680, 16199680, 2667904,...</td>\n      <td>[27876, 49972]</td>\n      <td>[28022, 53641]</td>\n      <td>[83628, 249860]</td>\n      <td>253120</td>\n      <td>81663</td>\n      <td>2024960</td>\n      <td>0.557832</td>\n      <td>1.914246</td>\n    </tr>\n    <tr>\n      <th>4</th>\n      <td>book</td>\n      <td>Column summation</td>\n      <td>[2024960, 333488, 16199680, 16199680, 2667904,...</td>\n      <td>[27876, 49972]</td>\n      <td>[28022, 53641]</td>\n      <td>[83628, 249860]</td>\n      <td>253120</td>\n      <td>81663</td>\n      <td>2024960</td>\n      <td>0.557832</td>\n      <td>1.914246</td>\n    </tr>\n  </tbody>\n</table>\n</div>"
     },
     "metadata": {},
     "output_type": "display_data"
    },
    {
     "name": "stdout",
     "output_type": "stream",
     "text": [
      "126\n"
     ]
    }
   ],
   "source": [
    "dfs = []\n",
    "resfiles = [\n",
    "    *glob.glob(\"../hamlet/features_*.log\")\n",
    "]\n",
    "for f in resfiles:\n",
    "    print(f\"reading file {f}\")\n",
    "    tdf = pd.read_json(f, lines=True)\n",
    "    if f == \"gpu/2023-06-17_07-08-00_251139_results.log\":\n",
    "        tdf = tdf[tdf.operator != 'KMeans']\n",
    "\n",
    "    dfs.append(tdf)\n",
    "\n",
    "df:pd.DataFrame = pd.concat(dfs)\n",
    "df = df.rename(columns={'join':'operator'})\n",
    "df.drop_duplicates(subset=['dataset', 'operator',], keep=\"first\", inplace=True)\n",
    "df.to_parquet(\"sigmod_merged_hamlet_features.parquet\")\n",
    "display(df.head())\n",
    "print(len(df))"
   ],
   "metadata": {
    "collapsed": false,
    "ExecuteTime": {
     "end_time": "2023-07-11T12:31:27.580771995Z",
     "start_time": "2023-07-11T12:31:27.426347947Z"
    }
   }
  },
  {
   "cell_type": "code",
   "execution_count": 9,
   "outputs": [
    {
     "ename": "IndexError",
     "evalue": "list index out of range",
     "output_type": "error",
     "traceback": [
      "\u001B[0;31m---------------------------------------------------------------------------\u001B[0m",
      "\u001B[0;31mIndexError\u001B[0m                                Traceback (most recent call last)",
      "Cell \u001B[0;32mIn[9], line 1\u001B[0m\n\u001B[0;32m----> 1\u001B[0m df[\u001B[38;5;124m'\u001B[39m\u001B[38;5;124mdataset_size\u001B[39m\u001B[38;5;124m'\u001B[39m] \u001B[38;5;241m=\u001B[39m \u001B[43mdf\u001B[49m\u001B[38;5;241;43m.\u001B[39;49m\u001B[43mdataset\u001B[49m\u001B[38;5;241;43m.\u001B[39;49m\u001B[43mapply\u001B[49m\u001B[43m(\u001B[49m\u001B[38;5;28;43;01mlambda\u001B[39;49;00m\u001B[43m \u001B[49m\u001B[43ms\u001B[49m\u001B[43m:\u001B[49m\u001B[43m \u001B[49m\u001B[43ms\u001B[49m\u001B[38;5;241;43m.\u001B[39;49m\u001B[43msplit\u001B[49m\u001B[43m(\u001B[49m\u001B[38;5;124;43m'\u001B[39;49m\u001B[38;5;124;43m=\u001B[39;49m\u001B[38;5;124;43m'\u001B[39;49m\u001B[43m)\u001B[49m\u001B[43m[\u001B[49m\u001B[38;5;241;43m2\u001B[39;49m\u001B[43m]\u001B[49m\u001B[38;5;241;43m.\u001B[39;49m\u001B[43msplit\u001B[49m\u001B[43m(\u001B[49m\u001B[38;5;124;43m'\u001B[39;49m\u001B[38;5;124;43m-\u001B[39;49m\u001B[38;5;124;43m'\u001B[39;49m\u001B[43m)\u001B[49m\u001B[43m[\u001B[49m\u001B[38;5;241;43m0\u001B[39;49m\u001B[43m]\u001B[49m\u001B[43m)\u001B[49m\u001B[38;5;241m.\u001B[39mastype(\u001B[38;5;28mint\u001B[39m)\n",
      "File \u001B[0;32m~/Documents/uni/y5/thesis/amalur/amalur-experiments/amalur-factorization/venv/lib/python3.10/site-packages/pandas/core/series.py:4771\u001B[0m, in \u001B[0;36mSeries.apply\u001B[0;34m(self, func, convert_dtype, args, **kwargs)\u001B[0m\n\u001B[1;32m   4661\u001B[0m \u001B[38;5;28;01mdef\u001B[39;00m \u001B[38;5;21mapply\u001B[39m(\n\u001B[1;32m   4662\u001B[0m     \u001B[38;5;28mself\u001B[39m,\n\u001B[1;32m   4663\u001B[0m     func: AggFuncType,\n\u001B[0;32m   (...)\u001B[0m\n\u001B[1;32m   4666\u001B[0m     \u001B[38;5;241m*\u001B[39m\u001B[38;5;241m*\u001B[39mkwargs,\n\u001B[1;32m   4667\u001B[0m ) \u001B[38;5;241m-\u001B[39m\u001B[38;5;241m>\u001B[39m DataFrame \u001B[38;5;241m|\u001B[39m Series:\n\u001B[1;32m   4668\u001B[0m \u001B[38;5;250m    \u001B[39m\u001B[38;5;124;03m\"\"\"\u001B[39;00m\n\u001B[1;32m   4669\u001B[0m \u001B[38;5;124;03m    Invoke function on values of Series.\u001B[39;00m\n\u001B[1;32m   4670\u001B[0m \n\u001B[0;32m   (...)\u001B[0m\n\u001B[1;32m   4769\u001B[0m \u001B[38;5;124;03m    dtype: float64\u001B[39;00m\n\u001B[1;32m   4770\u001B[0m \u001B[38;5;124;03m    \"\"\"\u001B[39;00m\n\u001B[0;32m-> 4771\u001B[0m     \u001B[38;5;28;01mreturn\u001B[39;00m \u001B[43mSeriesApply\u001B[49m\u001B[43m(\u001B[49m\u001B[38;5;28;43mself\u001B[39;49m\u001B[43m,\u001B[49m\u001B[43m \u001B[49m\u001B[43mfunc\u001B[49m\u001B[43m,\u001B[49m\u001B[43m \u001B[49m\u001B[43mconvert_dtype\u001B[49m\u001B[43m,\u001B[49m\u001B[43m \u001B[49m\u001B[43margs\u001B[49m\u001B[43m,\u001B[49m\u001B[43m \u001B[49m\u001B[43mkwargs\u001B[49m\u001B[43m)\u001B[49m\u001B[38;5;241;43m.\u001B[39;49m\u001B[43mapply\u001B[49m\u001B[43m(\u001B[49m\u001B[43m)\u001B[49m\n",
      "File \u001B[0;32m~/Documents/uni/y5/thesis/amalur/amalur-experiments/amalur-factorization/venv/lib/python3.10/site-packages/pandas/core/apply.py:1123\u001B[0m, in \u001B[0;36mSeriesApply.apply\u001B[0;34m(self)\u001B[0m\n\u001B[1;32m   1120\u001B[0m     \u001B[38;5;28;01mreturn\u001B[39;00m \u001B[38;5;28mself\u001B[39m\u001B[38;5;241m.\u001B[39mapply_str()\n\u001B[1;32m   1122\u001B[0m \u001B[38;5;66;03m# self.f is Callable\u001B[39;00m\n\u001B[0;32m-> 1123\u001B[0m \u001B[38;5;28;01mreturn\u001B[39;00m \u001B[38;5;28;43mself\u001B[39;49m\u001B[38;5;241;43m.\u001B[39;49m\u001B[43mapply_standard\u001B[49m\u001B[43m(\u001B[49m\u001B[43m)\u001B[49m\n",
      "File \u001B[0;32m~/Documents/uni/y5/thesis/amalur/amalur-experiments/amalur-factorization/venv/lib/python3.10/site-packages/pandas/core/apply.py:1174\u001B[0m, in \u001B[0;36mSeriesApply.apply_standard\u001B[0;34m(self)\u001B[0m\n\u001B[1;32m   1172\u001B[0m     \u001B[38;5;28;01melse\u001B[39;00m:\n\u001B[1;32m   1173\u001B[0m         values \u001B[38;5;241m=\u001B[39m obj\u001B[38;5;241m.\u001B[39mastype(\u001B[38;5;28mobject\u001B[39m)\u001B[38;5;241m.\u001B[39m_values\n\u001B[0;32m-> 1174\u001B[0m         mapped \u001B[38;5;241m=\u001B[39m \u001B[43mlib\u001B[49m\u001B[38;5;241;43m.\u001B[39;49m\u001B[43mmap_infer\u001B[49m\u001B[43m(\u001B[49m\n\u001B[1;32m   1175\u001B[0m \u001B[43m            \u001B[49m\u001B[43mvalues\u001B[49m\u001B[43m,\u001B[49m\n\u001B[1;32m   1176\u001B[0m \u001B[43m            \u001B[49m\u001B[43mf\u001B[49m\u001B[43m,\u001B[49m\n\u001B[1;32m   1177\u001B[0m \u001B[43m            \u001B[49m\u001B[43mconvert\u001B[49m\u001B[38;5;241;43m=\u001B[39;49m\u001B[38;5;28;43mself\u001B[39;49m\u001B[38;5;241;43m.\u001B[39;49m\u001B[43mconvert_dtype\u001B[49m\u001B[43m,\u001B[49m\n\u001B[1;32m   1178\u001B[0m \u001B[43m        \u001B[49m\u001B[43m)\u001B[49m\n\u001B[1;32m   1180\u001B[0m \u001B[38;5;28;01mif\u001B[39;00m \u001B[38;5;28mlen\u001B[39m(mapped) \u001B[38;5;129;01mand\u001B[39;00m \u001B[38;5;28misinstance\u001B[39m(mapped[\u001B[38;5;241m0\u001B[39m], ABCSeries):\n\u001B[1;32m   1181\u001B[0m     \u001B[38;5;66;03m# GH#43986 Need to do list(mapped) in order to get treated as nested\u001B[39;00m\n\u001B[1;32m   1182\u001B[0m     \u001B[38;5;66;03m#  See also GH#25959 regarding EA support\u001B[39;00m\n\u001B[1;32m   1183\u001B[0m     \u001B[38;5;28;01mreturn\u001B[39;00m obj\u001B[38;5;241m.\u001B[39m_constructor_expanddim(\u001B[38;5;28mlist\u001B[39m(mapped), index\u001B[38;5;241m=\u001B[39mobj\u001B[38;5;241m.\u001B[39mindex)\n",
      "File \u001B[0;32m~/Documents/uni/y5/thesis/amalur/amalur-experiments/amalur-factorization/venv/lib/python3.10/site-packages/pandas/_libs/lib.pyx:2924\u001B[0m, in \u001B[0;36mpandas._libs.lib.map_infer\u001B[0;34m()\u001B[0m\n",
      "Cell \u001B[0;32mIn[9], line 1\u001B[0m, in \u001B[0;36m<lambda>\u001B[0;34m(s)\u001B[0m\n\u001B[0;32m----> 1\u001B[0m df[\u001B[38;5;124m'\u001B[39m\u001B[38;5;124mdataset_size\u001B[39m\u001B[38;5;124m'\u001B[39m] \u001B[38;5;241m=\u001B[39m df\u001B[38;5;241m.\u001B[39mdataset\u001B[38;5;241m.\u001B[39mapply(\u001B[38;5;28;01mlambda\u001B[39;00m s: \u001B[43ms\u001B[49m\u001B[38;5;241;43m.\u001B[39;49m\u001B[43msplit\u001B[49m\u001B[43m(\u001B[49m\u001B[38;5;124;43m'\u001B[39;49m\u001B[38;5;124;43m=\u001B[39;49m\u001B[38;5;124;43m'\u001B[39;49m\u001B[43m)\u001B[49m\u001B[43m[\u001B[49m\u001B[38;5;241;43m2\u001B[39;49m\u001B[43m]\u001B[49m\u001B[38;5;241m.\u001B[39msplit(\u001B[38;5;124m'\u001B[39m\u001B[38;5;124m-\u001B[39m\u001B[38;5;124m'\u001B[39m)[\u001B[38;5;241m0\u001B[39m])\u001B[38;5;241m.\u001B[39mastype(\u001B[38;5;28mint\u001B[39m)\n",
      "\u001B[0;31mIndexError\u001B[0m: list index out of range"
     ]
    }
   ],
   "source": [
    "df['dataset_size'] = df.dataset.apply(lambda s: s.split('=')[2].split('-')[0]).astype(int)"
   ],
   "metadata": {
    "collapsed": false,
    "ExecuteTime": {
     "end_time": "2023-07-11T12:29:18.237757461Z",
     "start_time": "2023-07-11T12:29:17.844095020Z"
    }
   }
  },
  {
   "cell_type": "code",
   "execution_count": 10,
   "outputs": [
    {
     "ename": "KeyError",
     "evalue": "'dataset_size'",
     "output_type": "error",
     "traceback": [
      "\u001B[0;31m---------------------------------------------------------------------------\u001B[0m",
      "\u001B[0;31mKeyError\u001B[0m                                  Traceback (most recent call last)",
      "Cell \u001B[0;32mIn[10], line 1\u001B[0m\n\u001B[0;32m----> 1\u001B[0m \u001B[43mdf\u001B[49m\u001B[38;5;241;43m.\u001B[39;49m\u001B[43mgroupby\u001B[49m\u001B[43m(\u001B[49m\u001B[43m[\u001B[49m\u001B[38;5;124;43m'\u001B[39;49m\u001B[38;5;124;43mdataset_size\u001B[39;49m\u001B[38;5;124;43m'\u001B[39;49m\u001B[43m]\u001B[49m\u001B[43m)\u001B[49m\u001B[38;5;241m.\u001B[39mnum_cores\u001B[38;5;241m.\u001B[39mvalue_counts()\n",
      "File \u001B[0;32m~/Documents/uni/y5/thesis/amalur/amalur-experiments/amalur-factorization/venv/lib/python3.10/site-packages/pandas/core/frame.py:8402\u001B[0m, in \u001B[0;36mDataFrame.groupby\u001B[0;34m(self, by, axis, level, as_index, sort, group_keys, squeeze, observed, dropna)\u001B[0m\n\u001B[1;32m   8399\u001B[0m     \u001B[38;5;28;01mraise\u001B[39;00m \u001B[38;5;167;01mTypeError\u001B[39;00m(\u001B[38;5;124m\"\u001B[39m\u001B[38;5;124mYou have to supply one of \u001B[39m\u001B[38;5;124m'\u001B[39m\u001B[38;5;124mby\u001B[39m\u001B[38;5;124m'\u001B[39m\u001B[38;5;124m and \u001B[39m\u001B[38;5;124m'\u001B[39m\u001B[38;5;124mlevel\u001B[39m\u001B[38;5;124m'\u001B[39m\u001B[38;5;124m\"\u001B[39m)\n\u001B[1;32m   8400\u001B[0m axis \u001B[38;5;241m=\u001B[39m \u001B[38;5;28mself\u001B[39m\u001B[38;5;241m.\u001B[39m_get_axis_number(axis)\n\u001B[0;32m-> 8402\u001B[0m \u001B[38;5;28;01mreturn\u001B[39;00m \u001B[43mDataFrameGroupBy\u001B[49m\u001B[43m(\u001B[49m\n\u001B[1;32m   8403\u001B[0m \u001B[43m    \u001B[49m\u001B[43mobj\u001B[49m\u001B[38;5;241;43m=\u001B[39;49m\u001B[38;5;28;43mself\u001B[39;49m\u001B[43m,\u001B[49m\n\u001B[1;32m   8404\u001B[0m \u001B[43m    \u001B[49m\u001B[43mkeys\u001B[49m\u001B[38;5;241;43m=\u001B[39;49m\u001B[43mby\u001B[49m\u001B[43m,\u001B[49m\n\u001B[1;32m   8405\u001B[0m \u001B[43m    \u001B[49m\u001B[43maxis\u001B[49m\u001B[38;5;241;43m=\u001B[39;49m\u001B[43maxis\u001B[49m\u001B[43m,\u001B[49m\n\u001B[1;32m   8406\u001B[0m \u001B[43m    \u001B[49m\u001B[43mlevel\u001B[49m\u001B[38;5;241;43m=\u001B[39;49m\u001B[43mlevel\u001B[49m\u001B[43m,\u001B[49m\n\u001B[1;32m   8407\u001B[0m \u001B[43m    \u001B[49m\u001B[43mas_index\u001B[49m\u001B[38;5;241;43m=\u001B[39;49m\u001B[43mas_index\u001B[49m\u001B[43m,\u001B[49m\n\u001B[1;32m   8408\u001B[0m \u001B[43m    \u001B[49m\u001B[43msort\u001B[49m\u001B[38;5;241;43m=\u001B[39;49m\u001B[43msort\u001B[49m\u001B[43m,\u001B[49m\n\u001B[1;32m   8409\u001B[0m \u001B[43m    \u001B[49m\u001B[43mgroup_keys\u001B[49m\u001B[38;5;241;43m=\u001B[39;49m\u001B[43mgroup_keys\u001B[49m\u001B[43m,\u001B[49m\n\u001B[1;32m   8410\u001B[0m \u001B[43m    \u001B[49m\u001B[43msqueeze\u001B[49m\u001B[38;5;241;43m=\u001B[39;49m\u001B[43msqueeze\u001B[49m\u001B[43m,\u001B[49m\n\u001B[1;32m   8411\u001B[0m \u001B[43m    \u001B[49m\u001B[43mobserved\u001B[49m\u001B[38;5;241;43m=\u001B[39;49m\u001B[43mobserved\u001B[49m\u001B[43m,\u001B[49m\n\u001B[1;32m   8412\u001B[0m \u001B[43m    \u001B[49m\u001B[43mdropna\u001B[49m\u001B[38;5;241;43m=\u001B[39;49m\u001B[43mdropna\u001B[49m\u001B[43m,\u001B[49m\n\u001B[1;32m   8413\u001B[0m \u001B[43m\u001B[49m\u001B[43m)\u001B[49m\n",
      "File \u001B[0;32m~/Documents/uni/y5/thesis/amalur/amalur-experiments/amalur-factorization/venv/lib/python3.10/site-packages/pandas/core/groupby/groupby.py:965\u001B[0m, in \u001B[0;36mGroupBy.__init__\u001B[0;34m(self, obj, keys, axis, level, grouper, exclusions, selection, as_index, sort, group_keys, squeeze, observed, mutated, dropna)\u001B[0m\n\u001B[1;32m    962\u001B[0m \u001B[38;5;28;01mif\u001B[39;00m grouper \u001B[38;5;129;01mis\u001B[39;00m \u001B[38;5;28;01mNone\u001B[39;00m:\n\u001B[1;32m    963\u001B[0m     \u001B[38;5;28;01mfrom\u001B[39;00m \u001B[38;5;21;01mpandas\u001B[39;00m\u001B[38;5;21;01m.\u001B[39;00m\u001B[38;5;21;01mcore\u001B[39;00m\u001B[38;5;21;01m.\u001B[39;00m\u001B[38;5;21;01mgroupby\u001B[39;00m\u001B[38;5;21;01m.\u001B[39;00m\u001B[38;5;21;01mgrouper\u001B[39;00m \u001B[38;5;28;01mimport\u001B[39;00m get_grouper\n\u001B[0;32m--> 965\u001B[0m     grouper, exclusions, obj \u001B[38;5;241m=\u001B[39m \u001B[43mget_grouper\u001B[49m\u001B[43m(\u001B[49m\n\u001B[1;32m    966\u001B[0m \u001B[43m        \u001B[49m\u001B[43mobj\u001B[49m\u001B[43m,\u001B[49m\n\u001B[1;32m    967\u001B[0m \u001B[43m        \u001B[49m\u001B[43mkeys\u001B[49m\u001B[43m,\u001B[49m\n\u001B[1;32m    968\u001B[0m \u001B[43m        \u001B[49m\u001B[43maxis\u001B[49m\u001B[38;5;241;43m=\u001B[39;49m\u001B[43maxis\u001B[49m\u001B[43m,\u001B[49m\n\u001B[1;32m    969\u001B[0m \u001B[43m        \u001B[49m\u001B[43mlevel\u001B[49m\u001B[38;5;241;43m=\u001B[39;49m\u001B[43mlevel\u001B[49m\u001B[43m,\u001B[49m\n\u001B[1;32m    970\u001B[0m \u001B[43m        \u001B[49m\u001B[43msort\u001B[49m\u001B[38;5;241;43m=\u001B[39;49m\u001B[43msort\u001B[49m\u001B[43m,\u001B[49m\n\u001B[1;32m    971\u001B[0m \u001B[43m        \u001B[49m\u001B[43mobserved\u001B[49m\u001B[38;5;241;43m=\u001B[39;49m\u001B[43mobserved\u001B[49m\u001B[43m,\u001B[49m\n\u001B[1;32m    972\u001B[0m \u001B[43m        \u001B[49m\u001B[43mmutated\u001B[49m\u001B[38;5;241;43m=\u001B[39;49m\u001B[38;5;28;43mself\u001B[39;49m\u001B[38;5;241;43m.\u001B[39;49m\u001B[43mmutated\u001B[49m\u001B[43m,\u001B[49m\n\u001B[1;32m    973\u001B[0m \u001B[43m        \u001B[49m\u001B[43mdropna\u001B[49m\u001B[38;5;241;43m=\u001B[39;49m\u001B[38;5;28;43mself\u001B[39;49m\u001B[38;5;241;43m.\u001B[39;49m\u001B[43mdropna\u001B[49m\u001B[43m,\u001B[49m\n\u001B[1;32m    974\u001B[0m \u001B[43m    \u001B[49m\u001B[43m)\u001B[49m\n\u001B[1;32m    976\u001B[0m \u001B[38;5;28mself\u001B[39m\u001B[38;5;241m.\u001B[39mobj \u001B[38;5;241m=\u001B[39m obj\n\u001B[1;32m    977\u001B[0m \u001B[38;5;28mself\u001B[39m\u001B[38;5;241m.\u001B[39maxis \u001B[38;5;241m=\u001B[39m obj\u001B[38;5;241m.\u001B[39m_get_axis_number(axis)\n",
      "File \u001B[0;32m~/Documents/uni/y5/thesis/amalur/amalur-experiments/amalur-factorization/venv/lib/python3.10/site-packages/pandas/core/groupby/grouper.py:888\u001B[0m, in \u001B[0;36mget_grouper\u001B[0;34m(obj, key, axis, level, sort, observed, mutated, validate, dropna)\u001B[0m\n\u001B[1;32m    886\u001B[0m         in_axis, level, gpr \u001B[38;5;241m=\u001B[39m \u001B[38;5;28;01mFalse\u001B[39;00m, gpr, \u001B[38;5;28;01mNone\u001B[39;00m\n\u001B[1;32m    887\u001B[0m     \u001B[38;5;28;01melse\u001B[39;00m:\n\u001B[0;32m--> 888\u001B[0m         \u001B[38;5;28;01mraise\u001B[39;00m \u001B[38;5;167;01mKeyError\u001B[39;00m(gpr)\n\u001B[1;32m    889\u001B[0m \u001B[38;5;28;01melif\u001B[39;00m \u001B[38;5;28misinstance\u001B[39m(gpr, Grouper) \u001B[38;5;129;01mand\u001B[39;00m gpr\u001B[38;5;241m.\u001B[39mkey \u001B[38;5;129;01mis\u001B[39;00m \u001B[38;5;129;01mnot\u001B[39;00m \u001B[38;5;28;01mNone\u001B[39;00m:\n\u001B[1;32m    890\u001B[0m     \u001B[38;5;66;03m# Add key to exclusions\u001B[39;00m\n\u001B[1;32m    891\u001B[0m     exclusions\u001B[38;5;241m.\u001B[39madd(gpr\u001B[38;5;241m.\u001B[39mkey)\n",
      "\u001B[0;31mKeyError\u001B[0m: 'dataset_size'"
     ]
    }
   ],
   "source": [
    "df.groupby(['dataset_size']).num_cores.value_counts()"
   ],
   "metadata": {
    "collapsed": false,
    "ExecuteTime": {
     "end_time": "2023-07-11T12:29:21.001016224Z",
     "start_time": "2023-07-11T12:29:20.761784707Z"
    }
   }
  },
  {
   "cell_type": "code",
   "execution_count": 11,
   "outputs": [
    {
     "name": "stdout",
     "output_type": "stream",
     "text": [
      "                     dataset  join  model  tuple_ratio  feature_ratio  \\\n",
      "operator                                                                \n",
      "Column summation         168   168    168          168            168   \n",
      "Column summation T       168   168    168          168            168   \n",
      "Gaussian                 168   168    168          168            168   \n",
      "KMeans                   168   168    168          168            168   \n",
      "LMM                      168   168    168          168            168   \n",
      "LMM T                    168   168    168          168            168   \n",
      "Left multiply            168   168    168          168            168   \n",
      "Left multiply T          168   168    168          168            168   \n",
      "Linear Regression        168   168    168          168            168   \n",
      "Logistic Regression      168   168    168          168            168   \n",
      "Materialization          168   168    168          168            168   \n",
      "Noop                     168   168    168          168            168   \n",
      "RMM                      168   168    168          168            168   \n",
      "RMM T                    168   168    168          168            168   \n",
      "Right multiply           168   168    168          168            168   \n",
      "Right multiply T         168   168    168          168            168   \n",
      "Row summation            168   168    168          168            168   \n",
      "Row summation T          168   168    168          168            168   \n",
      "\n",
      "                     cardinality_T  cardinality_S  complexity  selectivity  \\\n",
      "operator                                                                     \n",
      "Column summation               168            168         168          168   \n",
      "Column summation T             168            168         168          168   \n",
      "Gaussian                       168            168         168          168   \n",
      "KMeans                         168            168         168          168   \n",
      "LMM                            168            168         168          168   \n",
      "LMM T                          168            168         168          168   \n",
      "Left multiply                  168            168         168          168   \n",
      "Left multiply T                168            168         168          168   \n",
      "Linear Regression              168            168         168          168   \n",
      "Logistic Regression            168            168         168          168   \n",
      "Materialization                168            168           0          168   \n",
      "Noop                           168            168           0          168   \n",
      "RMM                            168            168         168          168   \n",
      "RMM T                          168            168         168          168   \n",
      "Right multiply                 168            168         168          168   \n",
      "Right multiply T               168            168         168          168   \n",
      "Row summation                  168            168         168          168   \n",
      "Row summation T                168            168         168          168   \n",
      "\n",
      "                     times  num_cores  data_characteristics  profile_times  \\\n",
      "operator                                                                     \n",
      "Column summation       168        168                     0              0   \n",
      "Column summation T     168        168                     0              0   \n",
      "Gaussian               168        168                     0              0   \n",
      "KMeans                 168        168                     0              0   \n",
      "LMM                    168        168                     0              0   \n",
      "LMM T                  168        168                     0              0   \n",
      "Left multiply          168        168                     0              0   \n",
      "Left multiply T        168        168                     0              0   \n",
      "Linear Regression      168        168                     0              0   \n",
      "Logistic Regression    168        168                     0              0   \n",
      "Materialization        168        168                     0              0   \n",
      "Noop                   168        168                     0              0   \n",
      "RMM                    168        168                     0              0   \n",
      "RMM T                  168        168                     0              0   \n",
      "Right multiply         168        168                     0              0   \n",
      "Right multiply T       168        168                     0              0   \n",
      "Row summation          168        168                     0              0   \n",
      "Row summation T        168        168                     0              0   \n",
      "\n",
      "                     times_std  times_mean  \n",
      "operator                                    \n",
      "Column summation           168         168  \n",
      "Column summation T         168         168  \n",
      "Gaussian                   168         168  \n",
      "KMeans                     168         168  \n",
      "LMM                        168         168  \n",
      "LMM T                      168         168  \n",
      "Left multiply              168         168  \n",
      "Left multiply T            168         168  \n",
      "Linear Regression          168         168  \n",
      "Logistic Regression        168         168  \n",
      "Materialization            168         168  \n",
      "Noop                       168         168  \n",
      "RMM                        168         168  \n",
      "RMM T                      168         168  \n",
      "Right multiply             168         168  \n",
      "Right multiply T           168         168  \n",
      "Row summation              168         168  \n",
      "Row summation T            168         168  \n"
     ]
    }
   ],
   "source": [
    "# Some checks\n",
    "print(df.groupby('operator').count())"
   ],
   "metadata": {
    "collapsed": false,
    "ExecuteTime": {
     "end_time": "2023-07-11T12:29:22.325671995Z",
     "start_time": "2023-07-11T12:29:22.272699950Z"
    }
   }
  },
  {
   "cell_type": "code",
   "execution_count": 41,
   "outputs": [
    {
     "data": {
      "text/plain": "                     dataset  join  model  tuple_ratio  feature_ratio  \\\noperator                                                                \nColumn summation        3570  3570   3570         3570           3570   \nColumn summation T      3570  3570   3570         3570           3570   \nGaussian                3570  3570   3570         3570           3570   \nKMeans                  3570  3570   3570         3570           3570   \nLMM                     3570  3570   3570         3570           3570   \nLMM T                   3570  3570   3570         3570           3570   \nLeft multiply           3570  3570   3570         3570           3570   \nLeft multiply T         3570  3570   3570         3570           3570   \nLinear Regression       3570  3570   3570         3570           3570   \nLogistic Regression     3570  3570   3570         3570           3570   \nMaterialization         3570  3570   3570         3570           3570   \nNoop                    3570  3570   3570         3570           3570   \nRMM                     3570  3570   3570         3570           3570   \nRMM T                   3570  3570   3570         3570           3570   \nRight multiply          3570  3570   3570         3570           3570   \nRight multiply T        3570  3570   3570         3570           3570   \nRow summation           3570  3570   3570         3570           3570   \nRow summation T         3570  3570   3570         3570           3570   \n\n                     cardinality_T  cardinality_S  complexity  selectivity  \\\noperator                                                                     \nColumn summation              3570           3570        3570         3570   \nColumn summation T            3570           3570        3570         3570   \nGaussian                      3570           3570        3570         3570   \nKMeans                        3570           3570        3570         3570   \nLMM                           3570           3570        3570         3570   \nLMM T                         3570           3570        3570         3570   \nLeft multiply                 3570           3570        3570         3570   \nLeft multiply T               3570           3570        3570         3570   \nLinear Regression             3570           3570        3570         3570   \nLogistic Regression           3570           3570        3570         3570   \nMaterialization               3570           3570           0         3570   \nNoop                          3570           3570           0         3570   \nRMM                           3570           3570        3570         3570   \nRMM T                         3570           3570        3570         3570   \nRight multiply                3570           3570        3570         3570   \nRight multiply T              3570           3570        3570         3570   \nRow summation                 3570           3570        3570         3570   \nRow summation T               3570           3570        3570         3570   \n\n                     times  num_cores  data_characteristics  profile_times  \\\noperator                                                                     \nColumn summation      3570       3570                  3570              0   \nColumn summation T    3570       3570                  3570              0   \nGaussian              3570       3570                  3570              0   \nKMeans                3570       3570                  3570              0   \nLMM                   3570       3570                  3570              0   \nLMM T                 3570       3570                  3570              0   \nLeft multiply         3570       3570                  3570              0   \nLeft multiply T       3570       3570                  3570              0   \nLinear Regression     3570       3570                  3570              0   \nLogistic Regression   3570       3570                  3570              0   \nMaterialization       3570       3570                  3570              0   \nNoop                  3570       3570                  3570              0   \nRMM                   3570       3570                  3570              0   \nRMM T                 3570       3570                  3570              0   \nRight multiply        3570       3570                  3570              0   \nRight multiply T      3570       3570                  3570              0   \nRow summation         3570       3570                  3570              0   \nRow summation T       3570       3570                  3570              0   \n\n                     times_std  times_mean  dataset_size  \noperator                                                  \nColumn summation          3570        3570          3570  \nColumn summation T        3570        3570          3570  \nGaussian                  3570        3570          3570  \nKMeans                    3570        3570          3570  \nLMM                       3570        3570          3570  \nLMM T                     3570        3570          3570  \nLeft multiply             3570        3570          3570  \nLeft multiply T           3570        3570          3570  \nLinear Regression         3570        3570          3570  \nLogistic Regression       3570        3570          3570  \nMaterialization           3570        3570          3570  \nNoop                      3570        3570          3570  \nRMM                       3570        3570          3570  \nRMM T                     3570        3570          3570  \nRight multiply            3570        3570          3570  \nRight multiply T          3570        3570          3570  \nRow summation             3570        3570          3570  \nRow summation T           3570        3570          3570  ",
      "text/html": "<div>\n<style scoped>\n    .dataframe tbody tr th:only-of-type {\n        vertical-align: middle;\n    }\n\n    .dataframe tbody tr th {\n        vertical-align: top;\n    }\n\n    .dataframe thead th {\n        text-align: right;\n    }\n</style>\n<table border=\"1\" class=\"dataframe\">\n  <thead>\n    <tr style=\"text-align: right;\">\n      <th></th>\n      <th>dataset</th>\n      <th>join</th>\n      <th>model</th>\n      <th>tuple_ratio</th>\n      <th>feature_ratio</th>\n      <th>cardinality_T</th>\n      <th>cardinality_S</th>\n      <th>complexity</th>\n      <th>selectivity</th>\n      <th>times</th>\n      <th>num_cores</th>\n      <th>data_characteristics</th>\n      <th>profile_times</th>\n      <th>times_std</th>\n      <th>times_mean</th>\n      <th>dataset_size</th>\n    </tr>\n    <tr>\n      <th>operator</th>\n      <th></th>\n      <th></th>\n      <th></th>\n      <th></th>\n      <th></th>\n      <th></th>\n      <th></th>\n      <th></th>\n      <th></th>\n      <th></th>\n      <th></th>\n      <th></th>\n      <th></th>\n      <th></th>\n      <th></th>\n      <th></th>\n    </tr>\n  </thead>\n  <tbody>\n    <tr>\n      <th>Column summation</th>\n      <td>3570</td>\n      <td>3570</td>\n      <td>3570</td>\n      <td>3570</td>\n      <td>3570</td>\n      <td>3570</td>\n      <td>3570</td>\n      <td>3570</td>\n      <td>3570</td>\n      <td>3570</td>\n      <td>3570</td>\n      <td>3570</td>\n      <td>0</td>\n      <td>3570</td>\n      <td>3570</td>\n      <td>3570</td>\n    </tr>\n    <tr>\n      <th>Column summation T</th>\n      <td>3570</td>\n      <td>3570</td>\n      <td>3570</td>\n      <td>3570</td>\n      <td>3570</td>\n      <td>3570</td>\n      <td>3570</td>\n      <td>3570</td>\n      <td>3570</td>\n      <td>3570</td>\n      <td>3570</td>\n      <td>3570</td>\n      <td>0</td>\n      <td>3570</td>\n      <td>3570</td>\n      <td>3570</td>\n    </tr>\n    <tr>\n      <th>Gaussian</th>\n      <td>3570</td>\n      <td>3570</td>\n      <td>3570</td>\n      <td>3570</td>\n      <td>3570</td>\n      <td>3570</td>\n      <td>3570</td>\n      <td>3570</td>\n      <td>3570</td>\n      <td>3570</td>\n      <td>3570</td>\n      <td>3570</td>\n      <td>0</td>\n      <td>3570</td>\n      <td>3570</td>\n      <td>3570</td>\n    </tr>\n    <tr>\n      <th>KMeans</th>\n      <td>3570</td>\n      <td>3570</td>\n      <td>3570</td>\n      <td>3570</td>\n      <td>3570</td>\n      <td>3570</td>\n      <td>3570</td>\n      <td>3570</td>\n      <td>3570</td>\n      <td>3570</td>\n      <td>3570</td>\n      <td>3570</td>\n      <td>0</td>\n      <td>3570</td>\n      <td>3570</td>\n      <td>3570</td>\n    </tr>\n    <tr>\n      <th>LMM</th>\n      <td>3570</td>\n      <td>3570</td>\n      <td>3570</td>\n      <td>3570</td>\n      <td>3570</td>\n      <td>3570</td>\n      <td>3570</td>\n      <td>3570</td>\n      <td>3570</td>\n      <td>3570</td>\n      <td>3570</td>\n      <td>3570</td>\n      <td>0</td>\n      <td>3570</td>\n      <td>3570</td>\n      <td>3570</td>\n    </tr>\n    <tr>\n      <th>LMM T</th>\n      <td>3570</td>\n      <td>3570</td>\n      <td>3570</td>\n      <td>3570</td>\n      <td>3570</td>\n      <td>3570</td>\n      <td>3570</td>\n      <td>3570</td>\n      <td>3570</td>\n      <td>3570</td>\n      <td>3570</td>\n      <td>3570</td>\n      <td>0</td>\n      <td>3570</td>\n      <td>3570</td>\n      <td>3570</td>\n    </tr>\n    <tr>\n      <th>Left multiply</th>\n      <td>3570</td>\n      <td>3570</td>\n      <td>3570</td>\n      <td>3570</td>\n      <td>3570</td>\n      <td>3570</td>\n      <td>3570</td>\n      <td>3570</td>\n      <td>3570</td>\n      <td>3570</td>\n      <td>3570</td>\n      <td>3570</td>\n      <td>0</td>\n      <td>3570</td>\n      <td>3570</td>\n      <td>3570</td>\n    </tr>\n    <tr>\n      <th>Left multiply T</th>\n      <td>3570</td>\n      <td>3570</td>\n      <td>3570</td>\n      <td>3570</td>\n      <td>3570</td>\n      <td>3570</td>\n      <td>3570</td>\n      <td>3570</td>\n      <td>3570</td>\n      <td>3570</td>\n      <td>3570</td>\n      <td>3570</td>\n      <td>0</td>\n      <td>3570</td>\n      <td>3570</td>\n      <td>3570</td>\n    </tr>\n    <tr>\n      <th>Linear Regression</th>\n      <td>3570</td>\n      <td>3570</td>\n      <td>3570</td>\n      <td>3570</td>\n      <td>3570</td>\n      <td>3570</td>\n      <td>3570</td>\n      <td>3570</td>\n      <td>3570</td>\n      <td>3570</td>\n      <td>3570</td>\n      <td>3570</td>\n      <td>0</td>\n      <td>3570</td>\n      <td>3570</td>\n      <td>3570</td>\n    </tr>\n    <tr>\n      <th>Logistic Regression</th>\n      <td>3570</td>\n      <td>3570</td>\n      <td>3570</td>\n      <td>3570</td>\n      <td>3570</td>\n      <td>3570</td>\n      <td>3570</td>\n      <td>3570</td>\n      <td>3570</td>\n      <td>3570</td>\n      <td>3570</td>\n      <td>3570</td>\n      <td>0</td>\n      <td>3570</td>\n      <td>3570</td>\n      <td>3570</td>\n    </tr>\n    <tr>\n      <th>Materialization</th>\n      <td>3570</td>\n      <td>3570</td>\n      <td>3570</td>\n      <td>3570</td>\n      <td>3570</td>\n      <td>3570</td>\n      <td>3570</td>\n      <td>0</td>\n      <td>3570</td>\n      <td>3570</td>\n      <td>3570</td>\n      <td>3570</td>\n      <td>0</td>\n      <td>3570</td>\n      <td>3570</td>\n      <td>3570</td>\n    </tr>\n    <tr>\n      <th>Noop</th>\n      <td>3570</td>\n      <td>3570</td>\n      <td>3570</td>\n      <td>3570</td>\n      <td>3570</td>\n      <td>3570</td>\n      <td>3570</td>\n      <td>0</td>\n      <td>3570</td>\n      <td>3570</td>\n      <td>3570</td>\n      <td>3570</td>\n      <td>0</td>\n      <td>3570</td>\n      <td>3570</td>\n      <td>3570</td>\n    </tr>\n    <tr>\n      <th>RMM</th>\n      <td>3570</td>\n      <td>3570</td>\n      <td>3570</td>\n      <td>3570</td>\n      <td>3570</td>\n      <td>3570</td>\n      <td>3570</td>\n      <td>3570</td>\n      <td>3570</td>\n      <td>3570</td>\n      <td>3570</td>\n      <td>3570</td>\n      <td>0</td>\n      <td>3570</td>\n      <td>3570</td>\n      <td>3570</td>\n    </tr>\n    <tr>\n      <th>RMM T</th>\n      <td>3570</td>\n      <td>3570</td>\n      <td>3570</td>\n      <td>3570</td>\n      <td>3570</td>\n      <td>3570</td>\n      <td>3570</td>\n      <td>3570</td>\n      <td>3570</td>\n      <td>3570</td>\n      <td>3570</td>\n      <td>3570</td>\n      <td>0</td>\n      <td>3570</td>\n      <td>3570</td>\n      <td>3570</td>\n    </tr>\n    <tr>\n      <th>Right multiply</th>\n      <td>3570</td>\n      <td>3570</td>\n      <td>3570</td>\n      <td>3570</td>\n      <td>3570</td>\n      <td>3570</td>\n      <td>3570</td>\n      <td>3570</td>\n      <td>3570</td>\n      <td>3570</td>\n      <td>3570</td>\n      <td>3570</td>\n      <td>0</td>\n      <td>3570</td>\n      <td>3570</td>\n      <td>3570</td>\n    </tr>\n    <tr>\n      <th>Right multiply T</th>\n      <td>3570</td>\n      <td>3570</td>\n      <td>3570</td>\n      <td>3570</td>\n      <td>3570</td>\n      <td>3570</td>\n      <td>3570</td>\n      <td>3570</td>\n      <td>3570</td>\n      <td>3570</td>\n      <td>3570</td>\n      <td>3570</td>\n      <td>0</td>\n      <td>3570</td>\n      <td>3570</td>\n      <td>3570</td>\n    </tr>\n    <tr>\n      <th>Row summation</th>\n      <td>3570</td>\n      <td>3570</td>\n      <td>3570</td>\n      <td>3570</td>\n      <td>3570</td>\n      <td>3570</td>\n      <td>3570</td>\n      <td>3570</td>\n      <td>3570</td>\n      <td>3570</td>\n      <td>3570</td>\n      <td>3570</td>\n      <td>0</td>\n      <td>3570</td>\n      <td>3570</td>\n      <td>3570</td>\n    </tr>\n    <tr>\n      <th>Row summation T</th>\n      <td>3570</td>\n      <td>3570</td>\n      <td>3570</td>\n      <td>3570</td>\n      <td>3570</td>\n      <td>3570</td>\n      <td>3570</td>\n      <td>3570</td>\n      <td>3570</td>\n      <td>3570</td>\n      <td>3570</td>\n      <td>3570</td>\n      <td>0</td>\n      <td>3570</td>\n      <td>3570</td>\n      <td>3570</td>\n    </tr>\n  </tbody>\n</table>\n</div>"
     },
     "execution_count": 41,
     "metadata": {},
     "output_type": "execute_result"
    }
   ],
   "source": [
    "df[df.num_cores == 32].groupby([\"operator\"]).count()"
   ],
   "metadata": {
    "collapsed": false,
    "ExecuteTime": {
     "end_time": "2023-07-10T19:28:46.155454402Z",
     "start_time": "2023-07-10T19:28:46.090538219Z"
    }
   }
  },
  {
   "cell_type": "code",
   "execution_count": 14,
   "outputs": [],
   "source": [
    "df.num_cores = df.num_cores.astype(str)\n"
   ],
   "metadata": {
    "collapsed": false,
    "ExecuteTime": {
     "end_time": "2023-06-26T07:51:44.195851481Z",
     "start_time": "2023-06-26T07:51:38.270019507Z"
    }
   }
  },
  {
   "cell_type": "code",
   "execution_count": 15,
   "outputs": [],
   "source": [],
   "metadata": {
    "collapsed": false,
    "ExecuteTime": {
     "end_time": "2023-07-10T12:31:09.024202700Z",
     "start_time": "2023-07-10T12:31:00.391696847Z"
    }
   }
  }
 ],
 "metadata": {
  "kernelspec": {
   "display_name": "Python 3",
   "language": "python",
   "name": "python3"
  },
  "language_info": {
   "codemirror_mode": {
    "name": "ipython",
    "version": 2
   },
   "file_extension": ".py",
   "mimetype": "text/x-python",
   "name": "python",
   "nbconvert_exporter": "python",
   "pygments_lexer": "ipython2",
   "version": "2.7.6"
  }
 },
 "nbformat": 4,
 "nbformat_minor": 0
}
