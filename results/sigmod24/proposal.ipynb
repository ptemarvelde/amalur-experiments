{
 "cells": [
  {
   "cell_type": "code",
   "execution_count": 24,
   "metadata": {
    "collapsed": true,
    "ExecuteTime": {
     "end_time": "2023-07-27T08:22:19.487317Z",
     "start_time": "2023-07-27T08:22:19.468299717Z"
    }
   },
   "outputs": [],
   "source": [
    "import pandas as pd\n",
    "from collections import defaultdict\n",
    "import numpy as np"
   ]
  },
  {
   "cell_type": "code",
   "execution_count": 120,
   "outputs": [],
   "source": [
    "def postprocessing_features(raw_features,parallelism=8000):\n",
    "    raw_features = np.array(raw_features)\n",
    "    output=np.zeros(33)\n",
    "    if parallelism>1000:\n",
    "        mem_band=208*10**9 #st4 cluster\n",
    "    else:\n",
    "        mem_band=689*10**9\n",
    "    output[0:4]=raw_features[0:4]/mem_band\n",
    "    output[4:7]=raw_features[4:7]/raw_features[24]\n",
    "    output[7:10]=raw_features[7:10]/raw_features[25]\n",
    "    output[10]=raw_features[10]/raw_features[24]\n",
    "    output[11]=raw_features[11]/raw_features[25]\n",
    "    output[12]=raw_features[12]/parallelism\n",
    "    # output[12]=raw_features[12]/raw_features[24]\n",
    "    # output[13]=raw_features[12]/raw_features[25]\n",
    "    # output[14]=raw_features[13]/raw_features[24]\n",
    "    # output[15]=raw_features[13]/raw_features[25]\n",
    "    output[15]=raw_features[13]/parallelism\n",
    "    output[16:20]=raw_features[14:18]/mem_band\n",
    "    output[20:24]=raw_features[[19,20,22,23]]/mem_band\n",
    "    # output[24:26]=raw_features[[18,21]]/raw_features[24]\n",
    "    output[26:28]=raw_features[[18,21]]/parallelism\n",
    "    # output[26:28]=raw_features[[18,21]]/raw_features[25]\n",
    "    output[28]=raw_features[24]/parallelism\n",
    "    output[29]=raw_features[25]/parallelism\n",
    "    output[30]=raw_features[24]/raw_features[25]\n",
    "    output[31:33]=raw_features[26:28]\n",
    "    return output\n",
    "\n",
    "feature_names = [\"mem_mat_read\",    # 0: materialization(MA) memory read / memory bandwidth\n",
    "                 \"mem_mat_write\",   # 1: MA memory write / memory bandiwidth\n",
    "                 \"mem_fac_read\",    # 2: factorization(FA) memory read / memory bandwidth\n",
    "                 \"mem_fac_write\",   # 3: FA memory write / memory bandwidth\n",
    "                 \"comp_scalar_mat\", # 4: scalar ops complexity in MA / total MA complexity\n",
    "                 \"comp_lmm_mat\",    # 5: LMM ops complexity in MA / total MA complexity\n",
    "                 \"comp_rmm_mat\",    # 6: RMM ops complexity in MA / total MA complexity\n",
    "                 \"comp_scalar_fac\", # 7: scalar ops complexity in FA / total MA complexity\n",
    "                 \"comp_lmm_fac\",    # 8: LMM ops complexity in FA / total FA complexity\n",
    "                 \"comp_rmm_fac\",    # 9: RMM ops complexity in FA / total FA complexity\n",
    "                 \"comp_mat_col_major\",  # 10: Column-major access ops complexity in MA / total MA complexity\n",
    "                 \"comp_fac_col_major\",  # 11: Column-major access ops complexity in FA / total FA complexity\n",
    "                 \"comp_scalar_dense\",   # 12: dense scalar ops complexity / parallelism\n",
    "                 \"13\",\n",
    "                 \"14\",\n",
    "                 \"comp_matrix_dense\",   # 15: dense matrix multiplication complexity / paralellism\n",
    "                 \"mem_read_scalar_dense\",   # 16: dense scalar ops memory read / memory bandwidth\n",
    "                 \"mem_write_scalar_dense\",  # 17: dense scalar ops memory write / memory bandwidth\n",
    "                 \"mem_read_matrix_dense\",   # 18: dense MM memory read / memory bandwidth\n",
    "                 \"mem_write_matrix_dense\",  # 19: dense MM memory write / memory bandwidth\n",
    "                 \"mem_read_rowsum\", # 20: Rowsum ops memory read / memory bandwidth\n",
    "                 \"mem_write_rowsum\",# 21: Rowsum ops memory write / memory bandiwdth\n",
    "                 \"mem_read_colsum\", # 22: Colsum ops memory read / memory bandwidth\n",
    "                 \"mem_write_colsum\",# 23: Colsum ops memory write / memory bandwidth\n",
    "                 \"24\",\n",
    "                 \"25\",\n",
    "                 \"comp_rowsum\",     # 26: Rowsum ops complexity / parallelism\n",
    "                 \"comp_colsum\",     # 27: Colsum ops complexity / parallelism\n",
    "                 \"comp_mat\",        # 28: total MA complexity / parallelism\n",
    "                 \"comp_fac\",        # 29: total FA complexity / parallelism\n",
    "                 \"comp_ratio\",      # 30: complexity ratio\n",
    "                 \"tr\",          # 31: Morpheous TR\n",
    "                 \"fr\"           # 32: Morpheous FR\n",
    "                 ]"
   ],
   "metadata": {
    "collapsed": false,
    "ExecuteTime": {
     "end_time": "2023-07-27T10:00:53.341007270Z",
     "start_time": "2023-07-27T10:00:53.325415942Z"
    }
   }
  },
  {
   "cell_type": "code",
   "execution_count": 175,
   "outputs": [],
   "source": [
    "model_operators = [\"Linear Regression\", \"Gaussian\" , \"Logistic Regression\", \"KMeans\"]\n",
    "\n",
    "def read_and_join(suffix: str = \"\"):\n",
    "    res = pd.read_parquet(f\"./results/sigmod_merged{suffix}.parquet\")\n",
    "    features = pd.read_parquet(f\"./results/sigmod_merged_features{suffix}.parquet\")\n",
    "    res = res[res.operator.isin(model_operators)]\n",
    "    res.reset_index(drop=True, inplace=True)\n",
    "    res = res.merge(pd.json_normalize(res.data_characteristics), left_index=True, right_index=True)\n",
    "    features = features[features.operator.isin(model_operators)]\n",
    "    pre = res.copy()\n",
    "    # materialized complexities\n",
    "\n",
    "    materialized_complexity_dict = defaultdict(lambda: 0)\n",
    "    for dataset, operator, complexity in res[res.model == 'materialized'][['dataset', 'operator', 'complexity']].values:\n",
    "        materialized_complexity_dict[(dataset, operator)] = complexity\n",
    "\n",
    "    def calc_complexity_ratio(row):\n",
    "        if row[1] == 'Materialization':\n",
    "            return None\n",
    "        val = materialized_complexity_dict[(row[0], row[1])]\n",
    "        if not val:\n",
    "            return None\n",
    "        return  val/ row[2]\n",
    "\n",
    "    res['complexity_ratio'] = res[['dataset', 'operator', 'complexity']].apply(calc_complexity_ratio, axis=1)\n",
    "\n",
    "    baseline_lookup_dict = {(dataset, operator, num_cores): mean_time for (dataset, operator, num_cores, mean_time) in res[((res.model == 'materialized') | (res.model == 'baseline'))][['dataset', 'operator', 'num_cores', 'times_mean']].values}\n",
    "    def calc_speedup(row) -> float:\n",
    "        if row[1] == 'Materialization':\n",
    "            return 0.0\n",
    "        baseline = baseline_lookup_dict[(row[0], row[1], row[2])]\n",
    "        return baseline / row[3]\n",
    "\n",
    "\n",
    "    res['speedup'] = res[['dataset', 'operator', 'num_cores', 'times_mean']].apply(calc_speedup, axis=1)\n",
    "    res = res[res.model == 'factorized'][['dataset', 'speedup', 'operator', 'num_cores',\n",
    "                                          \"selectivity\", \"cardinality_T\", \"cardinality_S\",\n",
    "                                          # 'r_T', 'c_T', 'r_S', 'c_S', 'Snonzero', 'Tnonzero'\n",
    "                                          ]]\n",
    "    # turn res into: dataset, speedup, for models only\n",
    "    # single sample = dataset, ML model, [features], speedup\n",
    "    # res left join features on dataset, operator\n",
    "    #     apply postprocessing_features\n",
    "\n",
    "    # TODO include r_T=100000 features\n",
    "    res = pd.merge(res, features[['dataset', 'operator', 'features']], how='right', on=['dataset', 'operator'])\n",
    "    res['parallelism'] = res.num_cores * 1000\n",
    "    res['processed_features'] = res[['features', 'parallelism']].apply(lambda row: postprocessing_features(*row), axis=1)\n",
    "    res[feature_names] = pd.DataFrame(res.processed_features.tolist(), index=res.index)\n",
    "    res = res.drop(columns=[\"features\", \"parallelism\", \"processed_features\"])\n",
    "    res['label'] = res.speedup > 1.\n",
    "    return res\n",
    "\n",
    "\n",
    "sigmod = read_and_join()\n",
    "hamlet = read_and_join(\"_hamlet\")"
   ],
   "metadata": {
    "collapsed": false,
    "ExecuteTime": {
     "end_time": "2023-07-27T10:48:48.757744141Z",
     "start_time": "2023-07-27T10:48:38.598185247Z"
    }
   }
  },
  {
   "cell_type": "code",
   "execution_count": 177,
   "outputs": [],
   "source": [
    "model_features = [\"operator\", \"num_cores\",\n",
    "                  # \"r_T\", \"c_T\", \"r_S\", \"c_S\", \"Snonzero\", \"Tnonzero\",\n",
    "                  \"selectivity\", \"cardinality_T\", \"cardinality_S\",\n",
    "                  \"fr\", \"tr\", \"comp_ratio\",\n",
    "        \"mem_write_rowsum\", \"comp_lmm_fac\", \"comp_scalar_dense\", \"comp_lmm_mat\"]\n",
    "X = sigmod[model_features]"
   ],
   "metadata": {
    "collapsed": false,
    "ExecuteTime": {
     "end_time": "2023-07-27T10:49:05.370093056Z",
     "start_time": "2023-07-27T10:49:05.324191273Z"
    }
   }
  },
  {
   "cell_type": "code",
   "execution_count": 160,
   "outputs": [
    {
     "data": {
      "text/plain": "                  operator  num_cores         fr         tr  comp_ratio  \\\n0        Linear Regression         16  10.000000  18.571482    1.607358   \n1        Linear Regression         32  10.000000  18.571482    1.607358   \n2        Linear Regression          8  10.000000  18.571482    1.607358   \n3        Linear Regression         24  10.000000  18.571482    1.607358   \n4                 Gaussian         16  10.000000  18.571482    1.462350   \n...                    ...        ...        ...        ...         ...   \n19035               KMeans         24   1.666667   2.500000    0.814689   \n19036  Logistic Regression         32   1.666667   2.500000    0.799752   \n19037  Logistic Regression          8   1.666667   2.500000    0.799752   \n19038  Logistic Regression         16   1.666667   2.500000    0.799752   \n19039  Logistic Regression         24   1.666667   2.500000    0.799752   \n\n       mem_write_rowsum  comp_lmm_fac  comp_scalar_dense  comp_lmm_mat  \n0              0.000000      0.960795          62.501250      0.975609  \n1              0.000000      0.960795          31.250625      0.975609  \n2              0.000000      0.960795         125.002500      0.975609  \n3              0.000000      0.960795          41.667500      0.975609  \n4              0.000000      0.000000         125.001250      0.000000  \n...                 ...           ...                ...           ...  \n19035          0.000115      0.911361         125.012500      0.889577  \n19036          0.000000      0.977849          78.125000      0.972302  \n19037          0.000000      0.977849         312.500000      0.972302  \n19038          0.000000      0.977849         156.250000      0.972302  \n19039          0.000000      0.977849         104.166667      0.972302  \n\n[19040 rows x 9 columns]",
      "text/html": "<div>\n<style scoped>\n    .dataframe tbody tr th:only-of-type {\n        vertical-align: middle;\n    }\n\n    .dataframe tbody tr th {\n        vertical-align: top;\n    }\n\n    .dataframe thead th {\n        text-align: right;\n    }\n</style>\n<table border=\"1\" class=\"dataframe\">\n  <thead>\n    <tr style=\"text-align: right;\">\n      <th></th>\n      <th>operator</th>\n      <th>num_cores</th>\n      <th>fr</th>\n      <th>tr</th>\n      <th>comp_ratio</th>\n      <th>mem_write_rowsum</th>\n      <th>comp_lmm_fac</th>\n      <th>comp_scalar_dense</th>\n      <th>comp_lmm_mat</th>\n    </tr>\n  </thead>\n  <tbody>\n    <tr>\n      <th>0</th>\n      <td>Linear Regression</td>\n      <td>16</td>\n      <td>10.000000</td>\n      <td>18.571482</td>\n      <td>1.607358</td>\n      <td>0.000000</td>\n      <td>0.960795</td>\n      <td>62.501250</td>\n      <td>0.975609</td>\n    </tr>\n    <tr>\n      <th>1</th>\n      <td>Linear Regression</td>\n      <td>32</td>\n      <td>10.000000</td>\n      <td>18.571482</td>\n      <td>1.607358</td>\n      <td>0.000000</td>\n      <td>0.960795</td>\n      <td>31.250625</td>\n      <td>0.975609</td>\n    </tr>\n    <tr>\n      <th>2</th>\n      <td>Linear Regression</td>\n      <td>8</td>\n      <td>10.000000</td>\n      <td>18.571482</td>\n      <td>1.607358</td>\n      <td>0.000000</td>\n      <td>0.960795</td>\n      <td>125.002500</td>\n      <td>0.975609</td>\n    </tr>\n    <tr>\n      <th>3</th>\n      <td>Linear Regression</td>\n      <td>24</td>\n      <td>10.000000</td>\n      <td>18.571482</td>\n      <td>1.607358</td>\n      <td>0.000000</td>\n      <td>0.960795</td>\n      <td>41.667500</td>\n      <td>0.975609</td>\n    </tr>\n    <tr>\n      <th>4</th>\n      <td>Gaussian</td>\n      <td>16</td>\n      <td>10.000000</td>\n      <td>18.571482</td>\n      <td>1.462350</td>\n      <td>0.000000</td>\n      <td>0.000000</td>\n      <td>125.001250</td>\n      <td>0.000000</td>\n    </tr>\n    <tr>\n      <th>...</th>\n      <td>...</td>\n      <td>...</td>\n      <td>...</td>\n      <td>...</td>\n      <td>...</td>\n      <td>...</td>\n      <td>...</td>\n      <td>...</td>\n      <td>...</td>\n    </tr>\n    <tr>\n      <th>19035</th>\n      <td>KMeans</td>\n      <td>24</td>\n      <td>1.666667</td>\n      <td>2.500000</td>\n      <td>0.814689</td>\n      <td>0.000115</td>\n      <td>0.911361</td>\n      <td>125.012500</td>\n      <td>0.889577</td>\n    </tr>\n    <tr>\n      <th>19036</th>\n      <td>Logistic Regression</td>\n      <td>32</td>\n      <td>1.666667</td>\n      <td>2.500000</td>\n      <td>0.799752</td>\n      <td>0.000000</td>\n      <td>0.977849</td>\n      <td>78.125000</td>\n      <td>0.972302</td>\n    </tr>\n    <tr>\n      <th>19037</th>\n      <td>Logistic Regression</td>\n      <td>8</td>\n      <td>1.666667</td>\n      <td>2.500000</td>\n      <td>0.799752</td>\n      <td>0.000000</td>\n      <td>0.977849</td>\n      <td>312.500000</td>\n      <td>0.972302</td>\n    </tr>\n    <tr>\n      <th>19038</th>\n      <td>Logistic Regression</td>\n      <td>16</td>\n      <td>1.666667</td>\n      <td>2.500000</td>\n      <td>0.799752</td>\n      <td>0.000000</td>\n      <td>0.977849</td>\n      <td>156.250000</td>\n      <td>0.972302</td>\n    </tr>\n    <tr>\n      <th>19039</th>\n      <td>Logistic Regression</td>\n      <td>24</td>\n      <td>1.666667</td>\n      <td>2.500000</td>\n      <td>0.799752</td>\n      <td>0.000000</td>\n      <td>0.977849</td>\n      <td>104.166667</td>\n      <td>0.972302</td>\n    </tr>\n  </tbody>\n</table>\n<p>19040 rows × 9 columns</p>\n</div>"
     },
     "execution_count": 160,
     "metadata": {},
     "output_type": "execute_result"
    }
   ],
   "source": [
    "X"
   ],
   "metadata": {
    "collapsed": false,
    "ExecuteTime": {
     "end_time": "2023-07-27T10:45:00.128066242Z",
     "start_time": "2023-07-27T10:45:00.121892130Z"
    }
   }
  },
  {
   "cell_type": "code",
   "execution_count": 178,
   "outputs": [],
   "source": [
    "from sklearn.linear_model import LinearRegression, LogisticRegression\n",
    "from sklearn.pipeline import make_pipeline\n",
    "from sklearn.compose import ColumnTransformer\n",
    "from sklearn.preprocessing import StandardScaler, OneHotEncoder\n",
    "from sklearn.model_selection import train_test_split, RandomizedSearchCV\n",
    "from sklearn.metrics import confusion_matrix, ConfusionMatrixDisplay\n",
    "import numpy as np\n",
    "\n",
    "def train_and_score(model, X, y):\n",
    "    X_train, X_test, y_train, y_test = train_test_split(X, y, test_size=0.3, random_state=42)\n",
    "\n",
    "    categorical_features = [\"operator\"]\n",
    "    if 'num_cores' in X.columns:\n",
    "        categorical_features.append(\"num_cores\")\n",
    "\n",
    "    numeric_features = [x for x in X.columns if x not in categorical_features]\n",
    "\n",
    "    transformers = [\n",
    "        (\"num\", StandardScaler(), numeric_features),\n",
    "        (\"cat\", OneHotEncoder(), categorical_features)\n",
    "    ]\n",
    "\n",
    "    preprocessor = ColumnTransformer(\n",
    "        transformers=transformers\n",
    "    )\n",
    "    pipe = make_pipeline(preprocessor, model)\n",
    "    pipe.fit(X_train, y_train)\n",
    "    print(f\"Model {model}\")\n",
    "    print(f\"Score: {pipe.score(X_test, y_test)}\")\n",
    "    try:\n",
    "        ConfusionMatrixDisplay.from_estimator(pipe, X_test, y_test, cmap='bone', text_kw={'size': 20})\n",
    "    except Exception as e:\n",
    "        ...\n",
    "    return pipe\n"
   ],
   "metadata": {
    "collapsed": false,
    "ExecuteTime": {
     "end_time": "2023-07-27T10:49:08.614615626Z",
     "start_time": "2023-07-27T10:49:08.599828634Z"
    }
   }
  },
  {
   "cell_type": "code",
   "execution_count": 179,
   "outputs": [
    {
     "name": "stdout",
     "output_type": "stream",
     "text": [
      "Model LogisticRegression(max_iter=1000)\n",
      "Score: 0.9136904761904762\n"
     ]
    },
    {
     "data": {
      "text/plain": "<Figure size 640x480 with 2 Axes>",
      "image/png": "[encoded data removed]"
     },
     "metadata": {},
     "output_type": "display_data"
    }
   ],
   "source": [
    "trained_pipe = train_and_score(LogisticRegression(max_iter=1000), X, sigmod.label)"
   ],
   "metadata": {
    "collapsed": false,
    "ExecuteTime": {
     "end_time": "2023-07-27T10:49:11.154469675Z",
     "start_time": "2023-07-27T10:49:10.701485846Z"
    }
   }
  },
  {
   "cell_type": "code",
   "execution_count": 180,
   "outputs": [
    {
     "name": "stdout",
     "output_type": "stream",
     "text": [
      "Model Pipeline(steps=[('columntransformer',\n",
      "                 ColumnTransformer(transformers=[('num', StandardScaler(),\n",
      "                                                  ['selectivity',\n",
      "                                                   'cardinality_T',\n",
      "                                                   'cardinality_S', 'fr', 'tr',\n",
      "                                                   'comp_ratio',\n",
      "                                                   'mem_write_rowsum',\n",
      "                                                   'comp_lmm_fac',\n",
      "                                                   'comp_scalar_dense',\n",
      "                                                   'comp_lmm_mat']),\n",
      "                                                 ('cat', OneHotEncoder(),\n",
      "                                                  ['operator', 'num_cores'])])),\n",
      "                ('logisticregression', LogisticRegression(max_iter=1000))])\n",
      "Score: 0.8154761904761905\n"
     ]
    },
    {
     "data": {
      "text/plain": "<sklearn.metrics._plot.confusion_matrix.ConfusionMatrixDisplay at 0x7fc1cfc3e8c0>"
     },
     "execution_count": 180,
     "metadata": {},
     "output_type": "execute_result"
    },
    {
     "data": {
      "text/plain": "<Figure size 640x480 with 2 Axes>",
      "image/png": "[encoded data removed]"
     },
     "metadata": {},
     "output_type": "display_data"
    }
   ],
   "source": [
    "X_test = hamlet[model_features]\n",
    "y_test = hamlet.label\n",
    "print(f\"Model {trained_pipe}\")\n",
    "print(f\"Score: {trained_pipe.score(X_test, y_test)}\")\n",
    "ConfusionMatrixDisplay.from_estimator(trained_pipe, X_test, y_test, cmap='bone', text_kw={'size': 20})"
   ],
   "metadata": {
    "collapsed": false,
    "ExecuteTime": {
     "end_time": "2023-07-27T10:49:13.799139450Z",
     "start_time": "2023-07-27T10:49:13.531208327Z"
    }
   }
  },
  {
   "cell_type": "code",
   "execution_count": 234,
   "outputs": [],
   "source": [
    "class Morpheus:\n",
    "    tuple_ratio = 5\n",
    "    feature_ratio = 1\n",
    "\n",
    "    @staticmethod\n",
    "    def predict(X):\n",
    "        res = []\n",
    "        for fr, tr in X[['fr', 'tr']].values:\n",
    "            res.append(Morpheus.optimize(fr, tr))\n",
    "        return res\n",
    "\n",
    "    @staticmethod\n",
    "    def score(X, y):\n",
    "        pred = Morpheus.predict(X)\n",
    "        return np.count_nonzero(np.array(pred) != np.array(y)) / len(y)\n",
    "\n",
    "    @staticmethod\n",
    "    def optimize(t, f):\n",
    "        return t > 5 and f > 1\n",
    "\n",
    "class Amalur:\n",
    "    complexity_ratio_boundary = 1.5\n",
    "\n",
    "    @staticmethod\n",
    "    def predict(X):\n",
    "        res = []\n",
    "        for c in X['comp_ratio'].values:\n",
    "            res.append(Amalur.optimize(c))\n",
    "        return res\n",
    "\n",
    "    @staticmethod\n",
    "    def score(X, y):\n",
    "        pred = Amalur.predict(X)\n",
    "        return np.count_nonzero((np.array(pred) != np.array(y))) / len(y)\n",
    "\n",
    "    @staticmethod\n",
    "    def optimize(c):\n",
    "        return c > Amalur.complexity_ratio_boundary"
   ],
   "metadata": {
    "collapsed": false,
    "ExecuteTime": {
     "end_time": "2023-07-27T11:09:11.876150953Z",
     "start_time": "2023-07-27T11:09:11.871208730Z"
    }
   }
  },
  {
   "cell_type": "code",
   "execution_count": 232,
   "outputs": [
    {
     "data": {
      "text/plain": "0.5357142857142857"
     },
     "execution_count": 232,
     "metadata": {},
     "output_type": "execute_result"
    }
   ],
   "source": [
    "Morpheus.score(X_test, y_test)"
   ],
   "metadata": {
    "collapsed": false,
    "ExecuteTime": {
     "end_time": "2023-07-27T11:09:06.982130036Z",
     "start_time": "2023-07-27T11:09:06.976037698Z"
    }
   }
  },
  {
   "cell_type": "code",
   "execution_count": 235,
   "outputs": [
    {
     "data": {
      "text/plain": "0.4642857142857143"
     },
     "execution_count": 235,
     "metadata": {},
     "output_type": "execute_result"
    }
   ],
   "source": [
    "Amalur.score(X_test, y_test)"
   ],
   "metadata": {
    "collapsed": false,
    "ExecuteTime": {
     "end_time": "2023-07-27T11:09:13.551781733Z",
     "start_time": "2023-07-27T11:09:13.538571555Z"
    }
   }
  }
 ],
 "metadata": {
  "kernelspec": {
   "display_name": "Python 3",
   "language": "python",
   "name": "python3"
  },
  "language_info": {
   "codemirror_mode": {
    "name": "ipython",
    "version": 2
   },
   "file_extension": ".py",
   "mimetype": "text/x-python",
   "name": "python",
   "nbconvert_exporter": "python",
   "pygments_lexer": "ipython2",
   "version": "2.7.6"
  }
 },
 "nbformat": 4,
 "nbformat_minor": 0
}
